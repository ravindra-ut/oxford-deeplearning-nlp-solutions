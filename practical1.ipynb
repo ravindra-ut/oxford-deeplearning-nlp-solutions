{
 "cells": [
  {
   "cell_type": "markdown",
   "metadata": {},
   "source": [
    "## Practical 1: word2vec\n",
    "<p>Oxford CS - Deep NLP 2017<br>\n",
    "https://www.cs.ox.ac.uk/teaching/courses/2016-2017/dl/</p>\n",
    "<p>[Yannis Assael, Brendan Shillingford, Chris Dyer]</p>"
   ]
  },
  {
   "cell_type": "markdown",
   "metadata": {},
   "source": [
    "This practical is presented as an IPython Notebook, with the code written for recent versions of **Python 3**. The code in this practical will not work with Python 2 unless you modify it. If you are using your own Python installation, ensure you have a setup identical to that described in the installation shell script (which is intended for use with the department lab machines). We will be unable to support installation on personal machines due to time constraints, so please use the lab machines and the setup script if you are unfamiliar with how to install Anaconda.\n",
    "\n",
    "To execute a notebook cell, press `shift-enter`. The return value of the last command will be displayed, if it is not `None`.\n",
    "\n",
    "Potentially useful library documentation, references, and resources:\n",
    "\n",
    "* IPython notebooks: <https://ipython.org/ipython-doc/3/notebook/notebook.html#introduction>\n",
    "* Numpy numerical array library: <https://docs.scipy.org/doc/>\n",
    "* Gensim's word2vec: <https://radimrehurek.com/gensim/models/word2vec.html>\n",
    "* Bokeh interactive plots: <http://bokeh.pydata.org/en/latest/> (we provide plotting code here, but click the thumbnails for more examples to copy-paste)\n",
    "* scikit-learn ML library (aka `sklearn`): <http://scikit-learn.org/stable/documentation.html>\n",
    "* nltk NLP toolkit: <http://www.nltk.org/>\n",
    "* tutorial for processing xml in python using `lxml`: <http://lxml.de/tutorial.html> (we did this for you below, but in case you need it in the future)"
   ]
  },
  {
   "cell_type": "code",
   "execution_count": 1,
   "metadata": {},
   "outputs": [],
   "source": [
    "import numpy as np\n",
    "import os\n",
    "from random import shuffle\n",
    "import re"
   ]
  },
  {
   "cell_type": "code",
   "execution_count": 3,
   "metadata": {},
   "outputs": [
    {
     "data": {
      "text/html": [
       "\n",
       "    <div class=\"bk-root\">\n",
       "        <a href=\"https://bokeh.pydata.org\" target=\"_blank\" class=\"bk-logo bk-logo-small bk-logo-notebook\"></a>\n",
       "        <span id=\"c76647ea-5f15-44fd-a442-9c590393876a\">Loading BokehJS ...</span>\n",
       "    </div>"
      ]
     },
     "metadata": {},
     "output_type": "display_data"
    },
    {
     "data": {
      "application/javascript": [
       "\n",
       "(function(root) {\n",
       "  function now() {\n",
       "    return new Date();\n",
       "  }\n",
       "\n",
       "  var force = true;\n",
       "\n",
       "  if (typeof (root._bokeh_onload_callbacks) === \"undefined\" || force === true) {\n",
       "    root._bokeh_onload_callbacks = [];\n",
       "    root._bokeh_is_loading = undefined;\n",
       "  }\n",
       "\n",
       "  var JS_MIME_TYPE = 'application/javascript';\n",
       "  var HTML_MIME_TYPE = 'text/html';\n",
       "  var EXEC_MIME_TYPE = 'application/vnd.bokehjs_exec.v0+json';\n",
       "  var CLASS_NAME = 'output_bokeh rendered_html';\n",
       "\n",
       "  /**\n",
       "   * Render data to the DOM node\n",
       "   */\n",
       "  function render(props, node) {\n",
       "    var script = document.createElement(\"script\");\n",
       "    node.appendChild(script);\n",
       "  }\n",
       "\n",
       "  /**\n",
       "   * Handle when an output is cleared or removed\n",
       "   */\n",
       "  function handleClearOutput(event, handle) {\n",
       "    var cell = handle.cell;\n",
       "\n",
       "    var id = cell.output_area._bokeh_element_id;\n",
       "    var server_id = cell.output_area._bokeh_server_id;\n",
       "    // Clean up Bokeh references\n",
       "    if (id !== undefined) {\n",
       "      Bokeh.index[id].model.document.clear();\n",
       "      delete Bokeh.index[id];\n",
       "    }\n",
       "\n",
       "    if (server_id !== undefined) {\n",
       "      // Clean up Bokeh references\n",
       "      var cmd = \"from bokeh.io.state import curstate; print(curstate().uuid_to_server['\" + server_id + \"'].get_sessions()[0].document.roots[0]._id)\";\n",
       "      cell.notebook.kernel.execute(cmd, {\n",
       "        iopub: {\n",
       "          output: function(msg) {\n",
       "            var element_id = msg.content.text.trim();\n",
       "            Bokeh.index[element_id].model.document.clear();\n",
       "            delete Bokeh.index[element_id];\n",
       "          }\n",
       "        }\n",
       "      });\n",
       "      // Destroy server and session\n",
       "      var cmd = \"import bokeh.io.notebook as ion; ion.destroy_server('\" + server_id + \"')\";\n",
       "      cell.notebook.kernel.execute(cmd);\n",
       "    }\n",
       "  }\n",
       "\n",
       "  /**\n",
       "   * Handle when a new output is added\n",
       "   */\n",
       "  function handleAddOutput(event, handle) {\n",
       "    var output_area = handle.output_area;\n",
       "    var output = handle.output;\n",
       "\n",
       "    // limit handleAddOutput to display_data with EXEC_MIME_TYPE content only\n",
       "    if ((output.output_type != \"display_data\") || (!output.data.hasOwnProperty(EXEC_MIME_TYPE))) {\n",
       "      return\n",
       "    }\n",
       "\n",
       "    var toinsert = output_area.element.find(\".\" + CLASS_NAME.split(' ')[0]);\n",
       "\n",
       "    if (output.metadata[EXEC_MIME_TYPE][\"id\"] !== undefined) {\n",
       "      toinsert[0].firstChild.textContent = output.data[JS_MIME_TYPE];\n",
       "      // store reference to embed id on output_area\n",
       "      output_area._bokeh_element_id = output.metadata[EXEC_MIME_TYPE][\"id\"];\n",
       "    }\n",
       "    if (output.metadata[EXEC_MIME_TYPE][\"server_id\"] !== undefined) {\n",
       "      var bk_div = document.createElement(\"div\");\n",
       "      bk_div.innerHTML = output.data[HTML_MIME_TYPE];\n",
       "      var script_attrs = bk_div.children[0].attributes;\n",
       "      for (var i = 0; i < script_attrs.length; i++) {\n",
       "        toinsert[0].firstChild.setAttribute(script_attrs[i].name, script_attrs[i].value);\n",
       "      }\n",
       "      // store reference to server id on output_area\n",
       "      output_area._bokeh_server_id = output.metadata[EXEC_MIME_TYPE][\"server_id\"];\n",
       "    }\n",
       "  }\n",
       "\n",
       "  function register_renderer(events, OutputArea) {\n",
       "\n",
       "    function append_mime(data, metadata, element) {\n",
       "      // create a DOM node to render to\n",
       "      var toinsert = this.create_output_subarea(\n",
       "        metadata,\n",
       "        CLASS_NAME,\n",
       "        EXEC_MIME_TYPE\n",
       "      );\n",
       "      this.keyboard_manager.register_events(toinsert);\n",
       "      // Render to node\n",
       "      var props = {data: data, metadata: metadata[EXEC_MIME_TYPE]};\n",
       "      render(props, toinsert[0]);\n",
       "      element.append(toinsert);\n",
       "      return toinsert\n",
       "    }\n",
       "\n",
       "    /* Handle when an output is cleared or removed */\n",
       "    events.on('clear_output.CodeCell', handleClearOutput);\n",
       "    events.on('delete.Cell', handleClearOutput);\n",
       "\n",
       "    /* Handle when a new output is added */\n",
       "    events.on('output_added.OutputArea', handleAddOutput);\n",
       "\n",
       "    /**\n",
       "     * Register the mime type and append_mime function with output_area\n",
       "     */\n",
       "    OutputArea.prototype.register_mime_type(EXEC_MIME_TYPE, append_mime, {\n",
       "      /* Is output safe? */\n",
       "      safe: true,\n",
       "      /* Index of renderer in `output_area.display_order` */\n",
       "      index: 0\n",
       "    });\n",
       "  }\n",
       "\n",
       "  // register the mime type if in Jupyter Notebook environment and previously unregistered\n",
       "  if (root.Jupyter !== undefined) {\n",
       "    var events = require('base/js/events');\n",
       "    var OutputArea = require('notebook/js/outputarea').OutputArea;\n",
       "\n",
       "    if (OutputArea.prototype.mime_types().indexOf(EXEC_MIME_TYPE) == -1) {\n",
       "      register_renderer(events, OutputArea);\n",
       "    }\n",
       "  }\n",
       "\n",
       "  \n",
       "  if (typeof (root._bokeh_timeout) === \"undefined\" || force === true) {\n",
       "    root._bokeh_timeout = Date.now() + 5000;\n",
       "    root._bokeh_failed_load = false;\n",
       "  }\n",
       "\n",
       "  var NB_LOAD_WARNING = {'data': {'text/html':\n",
       "     \"<div style='background-color: #fdd'>\\n\"+\n",
       "     \"<p>\\n\"+\n",
       "     \"BokehJS does not appear to have successfully loaded. If loading BokehJS from CDN, this \\n\"+\n",
       "     \"may be due to a slow or bad network connection. Possible fixes:\\n\"+\n",
       "     \"</p>\\n\"+\n",
       "     \"<ul>\\n\"+\n",
       "     \"<li>re-rerun `output_notebook()` to attempt to load from CDN again, or</li>\\n\"+\n",
       "     \"<li>use INLINE resources instead, as so:</li>\\n\"+\n",
       "     \"</ul>\\n\"+\n",
       "     \"<code>\\n\"+\n",
       "     \"from bokeh.resources import INLINE\\n\"+\n",
       "     \"output_notebook(resources=INLINE)\\n\"+\n",
       "     \"</code>\\n\"+\n",
       "     \"</div>\"}};\n",
       "\n",
       "  function display_loaded() {\n",
       "    var el = document.getElementById(\"c76647ea-5f15-44fd-a442-9c590393876a\");\n",
       "    if (el != null) {\n",
       "      el.textContent = \"BokehJS is loading...\";\n",
       "    }\n",
       "    if (root.Bokeh !== undefined) {\n",
       "      if (el != null) {\n",
       "        el.textContent = \"BokehJS \" + root.Bokeh.version + \" successfully loaded.\";\n",
       "      }\n",
       "    } else if (Date.now() < root._bokeh_timeout) {\n",
       "      setTimeout(display_loaded, 100)\n",
       "    }\n",
       "  }\n",
       "\n",
       "\n",
       "  function run_callbacks() {\n",
       "    try {\n",
       "      root._bokeh_onload_callbacks.forEach(function(callback) { callback() });\n",
       "    }\n",
       "    finally {\n",
       "      delete root._bokeh_onload_callbacks\n",
       "    }\n",
       "    console.info(\"Bokeh: all callbacks have finished\");\n",
       "  }\n",
       "\n",
       "  function load_libs(js_urls, callback) {\n",
       "    root._bokeh_onload_callbacks.push(callback);\n",
       "    if (root._bokeh_is_loading > 0) {\n",
       "      console.log(\"Bokeh: BokehJS is being loaded, scheduling callback at\", now());\n",
       "      return null;\n",
       "    }\n",
       "    if (js_urls == null || js_urls.length === 0) {\n",
       "      run_callbacks();\n",
       "      return null;\n",
       "    }\n",
       "    console.log(\"Bokeh: BokehJS not loaded, scheduling load and callback at\", now());\n",
       "    root._bokeh_is_loading = js_urls.length;\n",
       "    for (var i = 0; i < js_urls.length; i++) {\n",
       "      var url = js_urls[i];\n",
       "      var s = document.createElement('script');\n",
       "      s.src = url;\n",
       "      s.async = false;\n",
       "      s.onreadystatechange = s.onload = function() {\n",
       "        root._bokeh_is_loading--;\n",
       "        if (root._bokeh_is_loading === 0) {\n",
       "          console.log(\"Bokeh: all BokehJS libraries loaded\");\n",
       "          run_callbacks()\n",
       "        }\n",
       "      };\n",
       "      s.onerror = function() {\n",
       "        console.warn(\"failed to load library \" + url);\n",
       "      };\n",
       "      console.log(\"Bokeh: injecting script tag for BokehJS library: \", url);\n",
       "      document.getElementsByTagName(\"head\")[0].appendChild(s);\n",
       "    }\n",
       "  };var element = document.getElementById(\"c76647ea-5f15-44fd-a442-9c590393876a\");\n",
       "  if (element == null) {\n",
       "    console.log(\"Bokeh: ERROR: autoload.js configured with elementid 'c76647ea-5f15-44fd-a442-9c590393876a' but no matching script tag was found. \")\n",
       "    return false;\n",
       "  }\n",
       "\n",
       "  var js_urls = [\"https://cdn.pydata.org/bokeh/release/bokeh-0.12.13.min.js\", \"https://cdn.pydata.org/bokeh/release/bokeh-widgets-0.12.13.min.js\", \"https://cdn.pydata.org/bokeh/release/bokeh-tables-0.12.13.min.js\", \"https://cdn.pydata.org/bokeh/release/bokeh-gl-0.12.13.min.js\"];\n",
       "\n",
       "  var inline_js = [\n",
       "    function(Bokeh) {\n",
       "      Bokeh.set_log_level(\"info\");\n",
       "    },\n",
       "    \n",
       "    function(Bokeh) {\n",
       "      \n",
       "    },\n",
       "    function(Bokeh) {\n",
       "      console.log(\"Bokeh: injecting CSS: https://cdn.pydata.org/bokeh/release/bokeh-0.12.13.min.css\");\n",
       "      Bokeh.embed.inject_css(\"https://cdn.pydata.org/bokeh/release/bokeh-0.12.13.min.css\");\n",
       "      console.log(\"Bokeh: injecting CSS: https://cdn.pydata.org/bokeh/release/bokeh-widgets-0.12.13.min.css\");\n",
       "      Bokeh.embed.inject_css(\"https://cdn.pydata.org/bokeh/release/bokeh-widgets-0.12.13.min.css\");\n",
       "      console.log(\"Bokeh: injecting CSS: https://cdn.pydata.org/bokeh/release/bokeh-tables-0.12.13.min.css\");\n",
       "      Bokeh.embed.inject_css(\"https://cdn.pydata.org/bokeh/release/bokeh-tables-0.12.13.min.css\");\n",
       "    }\n",
       "  ];\n",
       "\n",
       "  function run_inline_js() {\n",
       "    \n",
       "    if ((root.Bokeh !== undefined) || (force === true)) {\n",
       "      for (var i = 0; i < inline_js.length; i++) {\n",
       "        inline_js[i].call(root, root.Bokeh);\n",
       "      }if (force === true) {\n",
       "        display_loaded();\n",
       "      }} else if (Date.now() < root._bokeh_timeout) {\n",
       "      setTimeout(run_inline_js, 100);\n",
       "    } else if (!root._bokeh_failed_load) {\n",
       "      console.log(\"Bokeh: BokehJS failed to load within specified timeout.\");\n",
       "      root._bokeh_failed_load = true;\n",
       "    } else if (force !== true) {\n",
       "      var cell = $(document.getElementById(\"c76647ea-5f15-44fd-a442-9c590393876a\")).parents('.cell').data().cell;\n",
       "      cell.output_area.append_execute_result(NB_LOAD_WARNING)\n",
       "    }\n",
       "\n",
       "  }\n",
       "\n",
       "  if (root._bokeh_is_loading === 0) {\n",
       "    console.log(\"Bokeh: BokehJS loaded, going straight to plotting\");\n",
       "    run_inline_js();\n",
       "  } else {\n",
       "    load_libs(js_urls, function() {\n",
       "      console.log(\"Bokeh: BokehJS plotting callback run at\", now());\n",
       "      run_inline_js();\n",
       "    });\n",
       "  }\n",
       "}(window));"
      ],
      "application/vnd.bokehjs_load.v0+json": "\n(function(root) {\n  function now() {\n    return new Date();\n  }\n\n  var force = true;\n\n  if (typeof (root._bokeh_onload_callbacks) === \"undefined\" || force === true) {\n    root._bokeh_onload_callbacks = [];\n    root._bokeh_is_loading = undefined;\n  }\n\n  \n\n  \n  if (typeof (root._bokeh_timeout) === \"undefined\" || force === true) {\n    root._bokeh_timeout = Date.now() + 5000;\n    root._bokeh_failed_load = false;\n  }\n\n  var NB_LOAD_WARNING = {'data': {'text/html':\n     \"<div style='background-color: #fdd'>\\n\"+\n     \"<p>\\n\"+\n     \"BokehJS does not appear to have successfully loaded. If loading BokehJS from CDN, this \\n\"+\n     \"may be due to a slow or bad network connection. Possible fixes:\\n\"+\n     \"</p>\\n\"+\n     \"<ul>\\n\"+\n     \"<li>re-rerun `output_notebook()` to attempt to load from CDN again, or</li>\\n\"+\n     \"<li>use INLINE resources instead, as so:</li>\\n\"+\n     \"</ul>\\n\"+\n     \"<code>\\n\"+\n     \"from bokeh.resources import INLINE\\n\"+\n     \"output_notebook(resources=INLINE)\\n\"+\n     \"</code>\\n\"+\n     \"</div>\"}};\n\n  function display_loaded() {\n    var el = document.getElementById(\"c76647ea-5f15-44fd-a442-9c590393876a\");\n    if (el != null) {\n      el.textContent = \"BokehJS is loading...\";\n    }\n    if (root.Bokeh !== undefined) {\n      if (el != null) {\n        el.textContent = \"BokehJS \" + root.Bokeh.version + \" successfully loaded.\";\n      }\n    } else if (Date.now() < root._bokeh_timeout) {\n      setTimeout(display_loaded, 100)\n    }\n  }\n\n\n  function run_callbacks() {\n    try {\n      root._bokeh_onload_callbacks.forEach(function(callback) { callback() });\n    }\n    finally {\n      delete root._bokeh_onload_callbacks\n    }\n    console.info(\"Bokeh: all callbacks have finished\");\n  }\n\n  function load_libs(js_urls, callback) {\n    root._bokeh_onload_callbacks.push(callback);\n    if (root._bokeh_is_loading > 0) {\n      console.log(\"Bokeh: BokehJS is being loaded, scheduling callback at\", now());\n      return null;\n    }\n    if (js_urls == null || js_urls.length === 0) {\n      run_callbacks();\n      return null;\n    }\n    console.log(\"Bokeh: BokehJS not loaded, scheduling load and callback at\", now());\n    root._bokeh_is_loading = js_urls.length;\n    for (var i = 0; i < js_urls.length; i++) {\n      var url = js_urls[i];\n      var s = document.createElement('script');\n      s.src = url;\n      s.async = false;\n      s.onreadystatechange = s.onload = function() {\n        root._bokeh_is_loading--;\n        if (root._bokeh_is_loading === 0) {\n          console.log(\"Bokeh: all BokehJS libraries loaded\");\n          run_callbacks()\n        }\n      };\n      s.onerror = function() {\n        console.warn(\"failed to load library \" + url);\n      };\n      console.log(\"Bokeh: injecting script tag for BokehJS library: \", url);\n      document.getElementsByTagName(\"head\")[0].appendChild(s);\n    }\n  };var element = document.getElementById(\"c76647ea-5f15-44fd-a442-9c590393876a\");\n  if (element == null) {\n    console.log(\"Bokeh: ERROR: autoload.js configured with elementid 'c76647ea-5f15-44fd-a442-9c590393876a' but no matching script tag was found. \")\n    return false;\n  }\n\n  var js_urls = [\"https://cdn.pydata.org/bokeh/release/bokeh-0.12.13.min.js\", \"https://cdn.pydata.org/bokeh/release/bokeh-widgets-0.12.13.min.js\", \"https://cdn.pydata.org/bokeh/release/bokeh-tables-0.12.13.min.js\", \"https://cdn.pydata.org/bokeh/release/bokeh-gl-0.12.13.min.js\"];\n\n  var inline_js = [\n    function(Bokeh) {\n      Bokeh.set_log_level(\"info\");\n    },\n    \n    function(Bokeh) {\n      \n    },\n    function(Bokeh) {\n      console.log(\"Bokeh: injecting CSS: https://cdn.pydata.org/bokeh/release/bokeh-0.12.13.min.css\");\n      Bokeh.embed.inject_css(\"https://cdn.pydata.org/bokeh/release/bokeh-0.12.13.min.css\");\n      console.log(\"Bokeh: injecting CSS: https://cdn.pydata.org/bokeh/release/bokeh-widgets-0.12.13.min.css\");\n      Bokeh.embed.inject_css(\"https://cdn.pydata.org/bokeh/release/bokeh-widgets-0.12.13.min.css\");\n      console.log(\"Bokeh: injecting CSS: https://cdn.pydata.org/bokeh/release/bokeh-tables-0.12.13.min.css\");\n      Bokeh.embed.inject_css(\"https://cdn.pydata.org/bokeh/release/bokeh-tables-0.12.13.min.css\");\n    }\n  ];\n\n  function run_inline_js() {\n    \n    if ((root.Bokeh !== undefined) || (force === true)) {\n      for (var i = 0; i < inline_js.length; i++) {\n        inline_js[i].call(root, root.Bokeh);\n      }if (force === true) {\n        display_loaded();\n      }} else if (Date.now() < root._bokeh_timeout) {\n      setTimeout(run_inline_js, 100);\n    } else if (!root._bokeh_failed_load) {\n      console.log(\"Bokeh: BokehJS failed to load within specified timeout.\");\n      root._bokeh_failed_load = true;\n    } else if (force !== true) {\n      var cell = $(document.getElementById(\"c76647ea-5f15-44fd-a442-9c590393876a\")).parents('.cell').data().cell;\n      cell.output_area.append_execute_result(NB_LOAD_WARNING)\n    }\n\n  }\n\n  if (root._bokeh_is_loading === 0) {\n    console.log(\"Bokeh: BokehJS loaded, going straight to plotting\");\n    run_inline_js();\n  } else {\n    load_libs(js_urls, function() {\n      console.log(\"Bokeh: BokehJS plotting callback run at\", now());\n      run_inline_js();\n    });\n  }\n}(window));"
     },
     "metadata": {},
     "output_type": "display_data"
    }
   ],
   "source": [
    "from bokeh.models import ColumnDataSource, LabelSet\n",
    "from bokeh.plotting import figure, show, output_file\n",
    "from bokeh.io import output_notebook\n",
    "output_notebook()"
   ]
  },
  {
   "cell_type": "markdown",
   "metadata": {},
   "source": [
    "### Part 0: Download the TED dataset"
   ]
  },
  {
   "cell_type": "code",
   "execution_count": 6,
   "metadata": {},
   "outputs": [],
   "source": [
    "import urllib\n",
    "import zipfile\n",
    "import lxml.etree"
   ]
  },
  {
   "cell_type": "code",
   "execution_count": 7,
   "metadata": {},
   "outputs": [],
   "source": [
    "# Download the dataset if it's not already there: this may take a minute as it is 75MB\n",
    "if not os.path.isfile('ted_en-20160408.zip'):\n",
    "    urllib.urlretrieve(\"https://wit3.fbk.eu/get.php?path=XML_releases/xml/ted_en-20160408.zip&filename=ted_en-20160408.zip\", filename=\"ted_en-20160408.zip\")"
   ]
  },
  {
   "cell_type": "code",
   "execution_count": 8,
   "metadata": {},
   "outputs": [],
   "source": [
    "# For now, we're only interested in the subtitle text, so let's extract that from the XML:\n",
    "with zipfile.ZipFile('ted_en-20160408.zip', 'r') as z:\n",
    "    doc = lxml.etree.parse(z.open('ted_en-20160408.xml', 'r'))\n",
    "input_text = '\\n'.join(doc.xpath('//content/text()'))\n",
    "del doc"
   ]
  },
  {
   "cell_type": "markdown",
   "metadata": {},
   "source": [
    "### Part 1: Preprocessing\n",
    "\n",
    "In this part, we attempt to clean up the raw subtitles a bit, so that we get only sentences. The following substring shows examples of what we're trying to get rid of. Since it's hard to define precisely what we want to get rid of, we'll just use some simple heuristics."
   ]
  },
  {
   "cell_type": "code",
   "execution_count": 9,
   "metadata": {
    "scrolled": false
   },
   "outputs": [
    {
     "data": {
      "text/plain": [
       "u' baby does.\\n(Video) Hyowon Gweon: See this? (Ball squeaks) Did you see that? (Ball squeaks) Cool. See this one? (Ball squeaks) Wow.\\nLaura Schulz: Told you. (Laughs)\\n(Vide'"
      ]
     },
     "execution_count": 9,
     "metadata": {},
     "output_type": "execute_result"
    }
   ],
   "source": [
    "i = input_text.find(\"Hyowon Gweon: See this?\")\n",
    "input_text[i-20:i+150]"
   ]
  },
  {
   "cell_type": "markdown",
   "metadata": {},
   "source": [
    "Let's start by removing all parenthesized strings using a regex:"
   ]
  },
  {
   "cell_type": "code",
   "execution_count": 10,
   "metadata": {},
   "outputs": [],
   "source": [
    "input_text_noparens = re.sub(r'\\([^)]*\\)', '', input_text)"
   ]
  },
  {
   "cell_type": "markdown",
   "metadata": {},
   "source": [
    "We can verify the same location in the text is now clean as follows. We won't worry about the irregular spaces since we'll later split the text into sentences and tokenize it anyway."
   ]
  },
  {
   "cell_type": "code",
   "execution_count": 11,
   "metadata": {},
   "outputs": [
    {
     "data": {
      "text/plain": [
       "u\"hat the baby does.\\n Hyowon Gweon: See this?  Did you see that?  Cool. See this one?  Wow.\\nLaura Schulz: Told you. \\n HG: See this one?  Hey Clara, this one's for you. You \""
      ]
     },
     "execution_count": 11,
     "metadata": {},
     "output_type": "execute_result"
    }
   ],
   "source": [
    "i = input_text_noparens.find(\"Hyowon Gweon: See this?\")\n",
    "input_text_noparens[i-20:i+150]"
   ]
  },
  {
   "cell_type": "markdown",
   "metadata": {},
   "source": [
    "Now, let's attempt to remove speakers' names that occur at the beginning of a line, by deleting pieces of the form \"`<up to 20 characters>:`\", as shown in this example. Of course, this is an imperfect heuristic. "
   ]
  },
  {
   "cell_type": "code",
   "execution_count": 12,
   "metadata": {},
   "outputs": [
    {
     "data": {
      "text/plain": [
       "[u\"Here are two reasons companies fail: they only do more of the same, or they only do what's new\",\n",
       " u'To me the real, real solution to quality growth is figuring out the balance between two activities: exploration and exploitation',\n",
       " u' Both are necessary, but it can be too much of a good thing',\n",
       " u'Consider Facit',\n",
       " u\" I'm actually old enough to remember them\"]"
      ]
     },
     "execution_count": 12,
     "metadata": {},
     "output_type": "execute_result"
    }
   ],
   "source": [
    "sentences_strings_ted = []\n",
    "for line in input_text_noparens.split('\\n'):\n",
    "    m = re.match(r'^(?:(?P<precolon>[^:]{,20}):)?(?P<postcolon>.*)$', line)\n",
    "    sentences_strings_ted.extend(sent for sent in m.groupdict()['postcolon'].split('.') if sent)\n",
    "\n",
    "# Uncomment if you need to save some RAM: these strings are about 50MB.\n",
    "# del input_text, input_text_noparens\n",
    "\n",
    "# Let's view the first few:\n",
    "sentences_strings_ted[:5]"
   ]
  },
  {
   "cell_type": "markdown",
   "metadata": {},
   "source": [
    "Now that we have sentences, we're ready to tokenize each of them into words. This tokenization is imperfect, of course. For instance, how many tokens is \"can't\", and where/how do we split it? We'll take the simplest naive approach of splitting on spaces. Before splitting, we remove non-alphanumeric characters, such as punctuation. You may want to consider the following question: why do we replace these characters with spaces rather than deleting them? Think of a case where this yields a different answer."
   ]
  },
  {
   "cell_type": "code",
   "execution_count": 13,
   "metadata": {},
   "outputs": [],
   "source": [
    "sentences_ted = []\n",
    "for sent_str in sentences_strings_ted:\n",
    "    tokens = re.sub(r\"[^a-z0-9]+\", \" \", sent_str.lower()).split()\n",
    "    sentences_ted.append(tokens)"
   ]
  },
  {
   "cell_type": "markdown",
   "metadata": {},
   "source": [
    "Two sample processed sentences:"
   ]
  },
  {
   "cell_type": "code",
   "execution_count": 14,
   "metadata": {},
   "outputs": [
    {
     "data": {
      "text/plain": [
       "266694"
      ]
     },
     "execution_count": 14,
     "metadata": {},
     "output_type": "execute_result"
    }
   ],
   "source": [
    "len(sentences_ted)"
   ]
  },
  {
   "cell_type": "code",
   "execution_count": 15,
   "metadata": {},
   "outputs": [
    {
     "name": "stdout",
     "output_type": "stream",
     "text": [
      "[u'here', u'are', u'two', u'reasons', u'companies', u'fail', u'they', u'only', u'do', u'more', u'of', u'the', u'same', u'or', u'they', u'only', u'do', u'what', u's', u'new']\n",
      "[u'to', u'me', u'the', u'real', u'real', u'solution', u'to', u'quality', u'growth', u'is', u'figuring', u'out', u'the', u'balance', u'between', u'two', u'activities', u'exploration', u'and', u'exploitation']\n"
     ]
    }
   ],
   "source": [
    "print(sentences_ted[0])\n",
    "print(sentences_ted[1])"
   ]
  },
  {
   "cell_type": "markdown",
   "metadata": {},
   "source": [
    "### Part 2: Word Frequencies"
   ]
  },
  {
   "cell_type": "markdown",
   "metadata": {},
   "source": [
    "If you store the counts of the top 1000 words in a list called `counts_ted_top1000`, the code below will plot the histogram requested in the writeup."
   ]
  },
  {
   "cell_type": "code",
   "execution_count": 20,
   "metadata": {},
   "outputs": [],
   "source": [
    "from nltk import FreqDist\n",
    "\n",
    "word_list = [word for sentence in sentences_ted for word in sentence]\n",
    "distribution = FreqDist(word_list)"
   ]
  },
  {
   "cell_type": "code",
   "execution_count": 21,
   "metadata": {},
   "outputs": [],
   "source": [
    "top1000 = distribution.most_common(1000)\n",
    "counts_ted_top1000 = [count for word, count in top1000]\n",
    "words_ted_top1000 = [word for word, count in top1000]"
   ]
  },
  {
   "cell_type": "markdown",
   "metadata": {},
   "source": [
    "Plot distribution of top-1000 words"
   ]
  },
  {
   "cell_type": "code",
   "execution_count": 22,
   "metadata": {},
   "outputs": [
    {
     "data": {
      "text/html": [
       "\n",
       "<div class=\"bk-root\">\n",
       "    <div class=\"bk-plotdiv\" id=\"1ae2e0cc-2efe-4fee-8d3f-9b00ad14ff43\"></div>\n",
       "</div>"
      ]
     },
     "metadata": {},
     "output_type": "display_data"
    },
    {
     "data": {
      "application/javascript": [
       "(function(root) {\n",
       "  function embed_document(root) {\n",
       "    \n",
       "  var docs_json = {\"65116b8c-16ab-49dd-bce7-1eb1afe19fa0\":{\"roots\":{\"references\":[{\"attributes\":{},\"id\":\"5b227f6b-49f7-4f65-9cac-7d3ec4a67a4c\",\"type\":\"PanTool\"},{\"attributes\":{},\"id\":\"c4c230a1-eeca-4074-bbfd-30cf3bd62f09\",\"type\":\"BasicTicker\"},{\"attributes\":{},\"id\":\"5be909af-7693-41ef-9da6-e8d79ea22c17\",\"type\":\"LinearScale\"},{\"attributes\":{\"plot\":{\"id\":\"4ecb57ba-c595-4887-9cb8-e55cdec85325\",\"subtype\":\"Figure\",\"type\":\"Plot\"},\"ticker\":{\"id\":\"c4c230a1-eeca-4074-bbfd-30cf3bd62f09\",\"type\":\"BasicTicker\"}},\"id\":\"26634b7e-f4d2-465d-a722-e8c04d8cbb9e\",\"type\":\"Grid\"},{\"attributes\":{\"dimension\":1,\"plot\":{\"id\":\"4ecb57ba-c595-4887-9cb8-e55cdec85325\",\"subtype\":\"Figure\",\"type\":\"Plot\"},\"ticker\":{\"id\":\"8f227105-30b6-4856-aa4e-5b2b3cb57bb1\",\"type\":\"BasicTicker\"}},\"id\":\"651b81f7-acc9-4c89-af3f-495a8b291564\",\"type\":\"Grid\"},{\"attributes\":{},\"id\":\"a68f3c30-70e3-4bf7-b932-c9e15c497b8a\",\"type\":\"LinearScale\"},{\"attributes\":{},\"id\":\"fb3ad2c0-f50e-4b69-b711-f97a1f5d3e4d\",\"type\":\"WheelZoomTool\"},{\"attributes\":{\"bottom\":{\"value\":0},\"fill_alpha\":{\"value\":0.1},\"fill_color\":{\"value\":\"#1f77b4\"},\"left\":{\"field\":\"left\"},\"line_alpha\":{\"value\":0.1},\"line_color\":{\"value\":\"#1f77b4\"},\"right\":{\"field\":\"right\"},\"top\":{\"field\":\"top\"}},\"id\":\"347cd025-9faf-4a00-8604-03a2c3924407\",\"type\":\"Quad\"},{\"attributes\":{\"plot\":null,\"text\":\"Top-1000 words distribution\"},\"id\":\"a7025f7f-f035-4f50-8be3-3d16583e1eee\",\"type\":\"Title\"},{\"attributes\":{},\"id\":\"470a0f90-454b-4bbe-815c-2c3f7f1aaa59\",\"type\":\"ResetTool\"},{\"attributes\":{\"below\":[{\"id\":\"07084fc2-6d73-40d0-ba2b-b8e6d9524bf7\",\"type\":\"LinearAxis\"}],\"left\":[{\"id\":\"ad310ce5-7a59-4495-bf59-59216155ac8b\",\"type\":\"LinearAxis\"}],\"renderers\":[{\"id\":\"07084fc2-6d73-40d0-ba2b-b8e6d9524bf7\",\"type\":\"LinearAxis\"},{\"id\":\"26634b7e-f4d2-465d-a722-e8c04d8cbb9e\",\"type\":\"Grid\"},{\"id\":\"ad310ce5-7a59-4495-bf59-59216155ac8b\",\"type\":\"LinearAxis\"},{\"id\":\"651b81f7-acc9-4c89-af3f-495a8b291564\",\"type\":\"Grid\"},{\"id\":\"d3560149-c76e-46b8-ade1-069d3647e44c\",\"type\":\"GlyphRenderer\"}],\"title\":{\"id\":\"a7025f7f-f035-4f50-8be3-3d16583e1eee\",\"type\":\"Title\"},\"toolbar\":{\"id\":\"dc66f359-be12-4913-8cf2-87e3d8cdff0a\",\"type\":\"Toolbar\"},\"toolbar_location\":\"above\",\"x_range\":{\"id\":\"187aacb7-548c-4721-a4d7-6f92ee09914b\",\"type\":\"DataRange1d\"},\"x_scale\":{\"id\":\"5be909af-7693-41ef-9da6-e8d79ea22c17\",\"type\":\"LinearScale\"},\"y_range\":{\"id\":\"3d2914ab-09a8-4078-b501-24736d32e8ca\",\"type\":\"DataRange1d\"},\"y_scale\":{\"id\":\"a68f3c30-70e3-4bf7-b932-c9e15c497b8a\",\"type\":\"LinearScale\"}},\"id\":\"4ecb57ba-c595-4887-9cb8-e55cdec85325\",\"subtype\":\"Figure\",\"type\":\"Plot\"},{\"attributes\":{\"bottom\":{\"value\":0},\"fill_color\":{\"value\":\"#1f77b4\"},\"left\":{\"field\":\"left\"},\"line_color\":{\"value\":\"#555555\"},\"right\":{\"field\":\"right\"},\"top\":{\"field\":\"top\"}},\"id\":\"9d5a0343-9934-4a39-97c3-ae3a2b31a297\",\"type\":\"Quad\"},{\"attributes\":{},\"id\":\"6e95473d-ae66-4231-8bb9-f8dcbfca73f5\",\"type\":\"BasicTickFormatter\"},{\"attributes\":{\"formatter\":{\"id\":\"5a212cb6-f0d9-41fb-8282-0a7d26cd9c10\",\"type\":\"BasicTickFormatter\"},\"plot\":{\"id\":\"4ecb57ba-c595-4887-9cb8-e55cdec85325\",\"subtype\":\"Figure\",\"type\":\"Plot\"},\"ticker\":{\"id\":\"c4c230a1-eeca-4074-bbfd-30cf3bd62f09\",\"type\":\"BasicTicker\"}},\"id\":\"07084fc2-6d73-40d0-ba2b-b8e6d9524bf7\",\"type\":\"LinearAxis\"},{\"attributes\":{\"active_drag\":\"auto\",\"active_inspect\":\"auto\",\"active_scroll\":\"auto\",\"active_tap\":\"auto\",\"tools\":[{\"id\":\"5b227f6b-49f7-4f65-9cac-7d3ec4a67a4c\",\"type\":\"PanTool\"},{\"id\":\"fb3ad2c0-f50e-4b69-b711-f97a1f5d3e4d\",\"type\":\"WheelZoomTool\"},{\"id\":\"470a0f90-454b-4bbe-815c-2c3f7f1aaa59\",\"type\":\"ResetTool\"},{\"id\":\"07cb0e16-bf34-4c9c-ae69-64557751b56e\",\"type\":\"SaveTool\"}]},\"id\":\"dc66f359-be12-4913-8cf2-87e3d8cdff0a\",\"type\":\"Toolbar\"},{\"attributes\":{},\"id\":\"07cb0e16-bf34-4c9c-ae69-64557751b56e\",\"type\":\"SaveTool\"},{\"attributes\":{\"source\":{\"id\":\"874725df-88f2-49fa-afce-d5f5981e6d07\",\"type\":\"ColumnDataSource\"}},\"id\":\"b6612763-dd50-488b-92f8-001f1e2db50b\",\"type\":\"CDSView\"},{\"attributes\":{},\"id\":\"8f227105-30b6-4856-aa4e-5b2b3cb57bb1\",\"type\":\"BasicTicker\"},{\"attributes\":{\"callback\":null},\"id\":\"3d2914ab-09a8-4078-b501-24736d32e8ca\",\"type\":\"DataRange1d\"},{\"attributes\":{\"data_source\":{\"id\":\"874725df-88f2-49fa-afce-d5f5981e6d07\",\"type\":\"ColumnDataSource\"},\"glyph\":{\"id\":\"9d5a0343-9934-4a39-97c3-ae3a2b31a297\",\"type\":\"Quad\"},\"hover_glyph\":null,\"muted_glyph\":null,\"nonselection_glyph\":{\"id\":\"347cd025-9faf-4a00-8604-03a2c3924407\",\"type\":\"Quad\"},\"selection_glyph\":null,\"view\":{\"id\":\"b6612763-dd50-488b-92f8-001f1e2db50b\",\"type\":\"CDSView\"}},\"id\":\"d3560149-c76e-46b8-ade1-069d3647e44c\",\"type\":\"GlyphRenderer\"},{\"attributes\":{\"callback\":null,\"column_names\":[\"top\",\"right\",\"left\"],\"data\":{\"left\":{\"__ndarray__\":\"AAAAAABAeUB7FK5H4VqjQHsUrkfhxrFAuB6F61HguUB7FK5H4fzAQJqZmZmZCcVAuB6F61EWyUDXo3A9CiPNQHsUrkfhl9BACtejcD2e0kCamZmZmaTUQClcj8L1qtZAuB6F61Gx2EBI4XoUrrfaQNejcD0KvtxAZ2ZmZmbE3kB7FK5HYWXgQMP1KFyPaOFACtejcL1r4kBSuB6F627jQJqZmZkZcuRA4XoUrkd15UApXI/CdXjmQHE9Cteje+dAuB6F69F+6EAAAAAAAILpQEjhehQuhepAkML1KFyI60DXo3A9iovsQB+F61G4ju1AZ2ZmZuaR7kCuR+F6FJXvQHsUrkchTPBAH4XrUbjN8EDD9ShcT0/xQGdmZmbm0PFACtejcH1S8kCuR+F6FNTyQFK4HoWrVfNA9ihcj0LX80CamZmZ2Vj0QD4K16Nw2vRA4XoUrgdc9UCF61G4nt31QClcj8I1X/ZAzczMzMzg9kBxPQrXY2L3QBWuR+H64/dAuB6F65Fl+EBcj8L1KOf4QAAAAADAaPlApHA9Clfq+UBI4XoU7mv6QOxRuB6F7fpAkML1KBxv+0AzMzMzs/D7QNejcD1KcvxAexSuR+Hz/EAfhetReHX9QMP1KFwP9/1AZ2ZmZqZ4/kAK16NwPfr+QK5H4XrUe/9AUrgehWv9/0B7FK5HgT8AQc3MzMxMgABBH4XrURjBAEFxPQrX4wEBQcP1KFyvQgFBFa5H4XqDAUFnZmZmRsQBQbgehesRBQJBCtejcN1FAkFcj8L1qIYCQa5H4Xp0xwJBAAAAAEAIA0FSuB6FC0kDQaRwPQrXiQNB9ihcj6LKA0FI4XoUbgsEQZqZmZk5TARB7FG4HgWNBEE+Ctej0M0EQZDC9SicDgVB4XoUrmdPBUEzMzMzM5AFQYXrUbj+0AVB16NwPcoRBkEpXI/ClVIGQXsUrkdhkwZBzczMzCzUBkEfhetR+BQHQXE9CtfDVQdBw/UoXI+WB0EVrkfhWtcHQWdmZmYmGAhBuB6F6/FYCEEK16NwvZkIQVyPwvWI2ghBrkfhelQbCUE=\",\"dtype\":\"float64\",\"shape\":[100]},\"right\":{\"__ndarray__\":\"exSuR+Fao0B7FK5H4caxQLgehetR4LlAexSuR+H8wECamZmZmQnFQLgehetRFslA16NwPQojzUB7FK5H4ZfQQArXo3A9ntJAmpmZmZmk1EApXI/C9arWQLgehetRsdhASOF6FK632kDXo3A9Cr7cQGdmZmZmxN5AexSuR2Fl4EDD9Shcj2jhQArXo3C9a+JAUrgehetu40CamZmZGXLkQOF6FK5HdeVAKVyPwnV45kBxPQrXo3vnQLgehevRfuhAAAAAAACC6UBI4XoULoXqQJDC9ShciOtA16NwPYqL7EAfhetRuI7tQGdmZmbmke5ArkfhehSV70B7FK5HIUzwQB+F61G4zfBAw/UoXE9P8UBnZmZm5tDxQArXo3B9UvJArkfhehTU8kBSuB6Fq1XzQPYoXI9C1/NAmpmZmdlY9EA+CtejcNr0QOF6FK4HXPVAhetRuJ7d9UApXI/CNV/2QM3MzMzM4PZAcT0K12Ni90AVrkfh+uP3QLgeheuRZfhAXI/C9Sjn+EAAAAAAwGj5QKRwPQpX6vlASOF6FO5r+kDsUbgehe36QJDC9Sgcb/tAMzMzM7Pw+0DXo3A9SnL8QHsUrkfh8/xAH4XrUXh1/UDD9ShcD/f9QGdmZmameP5ACtejcD36/kCuR+F61Hv/QFK4HoVr/f9AexSuR4E/AEHNzMzMTIAAQR+F61EYwQBBcT0K1+MBAUHD9Shcr0IBQRWuR+F6gwFBZ2ZmZkbEAUG4HoXrEQUCQQrXo3DdRQJBXI/C9aiGAkGuR+F6dMcCQQAAAABACANBUrgehQtJA0GkcD0K14kDQfYoXI+iygNBSOF6FG4LBEGamZmZOUwEQexRuB4FjQRBPgrXo9DNBEGQwvUonA4FQeF6FK5nTwVBMzMzMzOQBUGF61G4/tAFQdejcD3KEQZBKVyPwpVSBkF7FK5HYZMGQc3MzMws1AZBH4XrUfgUB0FxPQrXw1UHQcP1KFyPlgdBFa5H4VrXB0FnZmZmJhgIQbgehevxWAhBCtejcL2ZCEFcj8L1iNoIQa5H4XpUGwlBAAAAACBcCUE=\",\"dtype\":\"float64\",\"shape\":[100]},\"top\":{\"__ndarray__\":\"50H1zNSBOT/ypb1tgHIBPwsriUb5Uew+zuTFiLI04j78kGUPxTHhPh40R25oQNY+zuTFiLI00j4pPQWW1y7APsTbB2FDRsg+JT0FltcuwD4tPQWW1y6wPi09BZbXLrA+JT0FltcuwD4tPQWW1y6gPiU9BZbXLrA+LT0FltcuoD4AAAAAAAAAADU9BZbXLqA+AAAAAAAAAAAAAAAAAAAAAAAAAAAAAAAAAAAAAAAAAAAAAAAAAAAAADU9BZbXLqA+AAAAAAAAAAAAAAAAAAAAAAAAAAAAAAAANT0FltcuoD4AAAAAAAAAAAAAAAAAAAAANT0FltcuoD4AAAAAAAAAACU9BZbXLqA+AAAAAAAAAAAlPQWW1y6gPkU9BZbXLqA+AAAAAAAAAAAlPQWW1y6gPgAAAAAAAAAAJT0FltcuoD4AAAAAAAAAAAAAAAAAAAAAAAAAAAAAAAAAAAAAAAAAAAAAAAAAAAAAJT0FltcuoD4AAAAAAAAAAAAAAAAAAAAAAAAAAAAAAAAAAAAAAAAAACU9BZbXLqA+AAAAAAAAAAAAAAAAAAAAAAAAAAAAAAAAAAAAAAAAAAAlPQWW1y6gPgAAAAAAAAAAAAAAAAAAAAAAAAAAAAAAAAAAAAAAAAAART0FltcuoD4AAAAAAAAAAAAAAAAAAAAAAAAAAAAAAAAAAAAAAAAAAAAAAAAAAAAAAAAAAAAAAAAAAAAAAAAAAAAAAAAAAAAAAAAAAAAAAAAAAAAAAAAAACU9BZbXLqA+AAAAAAAAAAAAAAAAAAAAAAAAAAAAAAAAAAAAAAAAAAAAAAAAAAAAAAAAAAAAAAAAAAAAAAAAAAAAAAAAAAAAAAAAAAAAAAAAAAAAAAAAAAAAAAAAAAAAAAAAAAAAAAAAAAAAAAAAAAAAAAAAAAAAAAAAAAAAAAAAAAAAAAAAAAAAAAAAAAAAAAAAAAAAAAAAAAAAAAAAAAAAAAAAAAAAAAAAAAAAAAAAAAAAAAAAAAAAAAAAAAAAAAAAAAAAAAAAAAAAAAAAAAAAAAAAAAAAAAAAAAAAAAAAJT0FltcuoD4=\",\"dtype\":\"float64\",\"shape\":[100]}}},\"id\":\"874725df-88f2-49fa-afce-d5f5981e6d07\",\"type\":\"ColumnDataSource\"},{\"attributes\":{\"callback\":null},\"id\":\"187aacb7-548c-4721-a4d7-6f92ee09914b\",\"type\":\"DataRange1d\"},{\"attributes\":{\"formatter\":{\"id\":\"6e95473d-ae66-4231-8bb9-f8dcbfca73f5\",\"type\":\"BasicTickFormatter\"},\"plot\":{\"id\":\"4ecb57ba-c595-4887-9cb8-e55cdec85325\",\"subtype\":\"Figure\",\"type\":\"Plot\"},\"ticker\":{\"id\":\"8f227105-30b6-4856-aa4e-5b2b3cb57bb1\",\"type\":\"BasicTicker\"}},\"id\":\"ad310ce5-7a59-4495-bf59-59216155ac8b\",\"type\":\"LinearAxis\"},{\"attributes\":{},\"id\":\"5a212cb6-f0d9-41fb-8282-0a7d26cd9c10\",\"type\":\"BasicTickFormatter\"}],\"root_ids\":[\"4ecb57ba-c595-4887-9cb8-e55cdec85325\"]},\"title\":\"Bokeh Application\",\"version\":\"0.12.13\"}};\n",
       "  var render_items = [{\"docid\":\"65116b8c-16ab-49dd-bce7-1eb1afe19fa0\",\"elementid\":\"1ae2e0cc-2efe-4fee-8d3f-9b00ad14ff43\",\"modelid\":\"4ecb57ba-c595-4887-9cb8-e55cdec85325\"}];\n",
       "  root.Bokeh.embed.embed_items_notebook(docs_json, render_items);\n",
       "\n",
       "  }\n",
       "  if (root.Bokeh !== undefined) {\n",
       "    embed_document(root);\n",
       "  } else {\n",
       "    var attempts = 0;\n",
       "    var timer = setInterval(function(root) {\n",
       "      if (root.Bokeh !== undefined) {\n",
       "        embed_document(root);\n",
       "        clearInterval(timer);\n",
       "      }\n",
       "      attempts++;\n",
       "      if (attempts > 100) {\n",
       "        console.log(\"Bokeh: ERROR: Unable to run BokehJS code because BokehJS library is missing\")\n",
       "        clearInterval(timer);\n",
       "      }\n",
       "    }, 10, root)\n",
       "  }\n",
       "})(window);"
      ],
      "application/vnd.bokehjs_exec.v0+json": ""
     },
     "metadata": {
      "application/vnd.bokehjs_exec.v0+json": {
       "id": "4ecb57ba-c595-4887-9cb8-e55cdec85325"
      }
     },
     "output_type": "display_data"
    }
   ],
   "source": [
    "hist, edges = np.histogram(counts_ted_top1000, density=True, bins=100, normed=True)\n",
    "\n",
    "p = figure(tools=\"pan,wheel_zoom,reset,save\",\n",
    "           toolbar_location=\"above\",\n",
    "           title=\"Top-1000 words distribution\")\n",
    "p.quad(top=hist, bottom=0, left=edges[:-1], right=edges[1:], line_color=\"#555555\")\n",
    "show(p)"
   ]
  },
  {
   "cell_type": "markdown",
   "metadata": {},
   "source": [
    "### Part 3: Train Word2Vec"
   ]
  },
  {
   "cell_type": "code",
   "execution_count": 19,
   "metadata": {},
   "outputs": [],
   "source": [
    "from gensim.models import Word2Vec"
   ]
  },
  {
   "cell_type": "code",
   "execution_count": 24,
   "metadata": {},
   "outputs": [],
   "source": [
    "model_ted = Word2Vec(sentences_ted, size=100, window=5, min_count=10, workers=4)"
   ]
  },
  {
   "cell_type": "markdown",
   "metadata": {},
   "source": [
    "### Part 4: Ted Learnt Representations"
   ]
  },
  {
   "cell_type": "markdown",
   "metadata": {},
   "source": [
    "Finding similar words: (see gensim docs for more functionality of `most_similar`)"
   ]
  },
  {
   "cell_type": "code",
   "execution_count": 25,
   "metadata": {},
   "outputs": [
    {
     "name": "stderr",
     "output_type": "stream",
     "text": [
      "/usr/local/lib/python2.7/dist-packages/ipykernel_launcher.py:1: DeprecationWarning: Call to deprecated `most_similar` (Method will be removed in 4.0.0, use self.wv.most_similar() instead).\n",
      "  \"\"\"Entry point for launching an IPython kernel.\n"
     ]
    },
    {
     "data": {
      "text/plain": [
       "[(u'woman', 0.8424171209335327),\n",
       " (u'guy', 0.8048239946365356),\n",
       " (u'lady', 0.7494685649871826),\n",
       " (u'girl', 0.7398644089698792),\n",
       " (u'boy', 0.7373195886611938),\n",
       " (u'gentleman', 0.7252902984619141),\n",
       " (u'soldier', 0.7003352642059326),\n",
       " (u'kid', 0.6968482136726379),\n",
       " (u'david', 0.6589904427528381),\n",
       " (u'person', 0.6465502977371216)]"
      ]
     },
     "execution_count": 25,
     "metadata": {},
     "output_type": "execute_result"
    }
   ],
   "source": [
    "model_ted.most_similar(\"man\")"
   ]
  },
  {
   "cell_type": "code",
   "execution_count": 26,
   "metadata": {},
   "outputs": [
    {
     "name": "stderr",
     "output_type": "stream",
     "text": [
      "/usr/local/lib/python2.7/dist-packages/ipykernel_launcher.py:1: DeprecationWarning: Call to deprecated `most_similar` (Method will be removed in 4.0.0, use self.wv.most_similar() instead).\n",
      "  \"\"\"Entry point for launching an IPython kernel.\n"
     ]
    },
    {
     "data": {
      "text/plain": [
       "[(u'machine', 0.7426152229309082),\n",
       " (u'software', 0.7257680892944336),\n",
       " (u'device', 0.6978968977928162),\n",
       " (u'robot', 0.6865769624710083),\n",
       " (u'simulation', 0.6754375696182251),\n",
       " (u'program', 0.6595192551612854),\n",
       " (u'camera', 0.6548471450805664),\n",
       " (u'interface', 0.6512086987495422),\n",
       " (u'chip', 0.6417384147644043),\n",
       " (u'3d', 0.6354435682296753)]"
      ]
     },
     "execution_count": 26,
     "metadata": {},
     "output_type": "execute_result"
    }
   ],
   "source": [
    "model_ted.most_similar(\"computer\")"
   ]
  },
  {
   "cell_type": "code",
   "execution_count": 27,
   "metadata": {},
   "outputs": [
    {
     "name": "stderr",
     "output_type": "stream",
     "text": [
      "/usr/local/lib/python2.7/dist-packages/ipykernel_launcher.py:1: DeprecationWarning: Call to deprecated `most_similar` (Method will be removed in 4.0.0, use self.wv.most_similar() instead).\n",
      "  \"\"\"Entry point for launching an IPython kernel.\n"
     ]
    },
    {
     "data": {
      "text/plain": [
       "[(u'manhattan', 0.4065490961074829),\n",
       " (u'shining', 0.3978366255760193),\n",
       " (u'exact', 0.3618057370185852),\n",
       " (u'its', 0.3610724210739136),\n",
       " (u'upper', 0.35671842098236084),\n",
       " (u'reflected', 0.35611021518707275),\n",
       " (u'tagging', 0.3557807505130768),\n",
       " (u'antarctica', 0.3513306677341461),\n",
       " (u'academia', 0.34912610054016113),\n",
       " (u'monterey', 0.34778308868408203)]"
      ]
     },
     "execution_count": 27,
     "metadata": {},
     "output_type": "execute_result"
    }
   ],
   "source": [
    "model_ted.most_similar(\"the\")"
   ]
  },
  {
   "cell_type": "code",
   "execution_count": 28,
   "metadata": {},
   "outputs": [
    {
     "name": "stderr",
     "output_type": "stream",
     "text": [
      "/usr/local/lib/python2.7/dist-packages/ipykernel_launcher.py:1: DeprecationWarning: Call to deprecated `most_similar` (Method will be removed in 4.0.0, use self.wv.most_similar() instead).\n",
      "  \"\"\"Entry point for launching an IPython kernel.\n"
     ]
    },
    {
     "data": {
      "text/plain": [
       "[(u'conference', 0.742803692817688),\n",
       " (u'tedwomen', 0.6079268455505371),\n",
       " (u'chris', 0.5894644260406494),\n",
       " (u'mit', 0.5735347270965576),\n",
       " (u'tonight', 0.5513068437576294),\n",
       " (u'professor', 0.5366588830947876),\n",
       " (u'richard', 0.5285269618034363),\n",
       " (u'steve', 0.5260133743286133),\n",
       " (u'john', 0.5250959992408752),\n",
       " (u'dan', 0.5139486789703369)]"
      ]
     },
     "execution_count": 28,
     "metadata": {},
     "output_type": "execute_result"
    }
   ],
   "source": [
    "model_ted.most_similar(\"ted\")"
   ]
  },
  {
   "cell_type": "markdown",
   "metadata": {},
   "source": [
    "#### t-SNE visualization\n",
    "To use the t-SNE code below, first put a list of the top 1000 words (as strings) into a variable `words_top_ted`. The following code gets the corresponding vectors from the model, assuming it's called `model_ted`:"
   ]
  },
  {
   "cell_type": "code",
   "execution_count": 30,
   "metadata": {},
   "outputs": [
    {
     "name": "stderr",
     "output_type": "stream",
     "text": [
      "/usr/local/lib/python2.7/dist-packages/ipykernel_launcher.py:2: DeprecationWarning: Call to deprecated `__getitem__` (Method will be removed in 4.0.0, use self.wv.__getitem__() instead).\n",
      "  \n"
     ]
    }
   ],
   "source": [
    "# This assumes words_top_ted is a list of strings, the top 1000 words\n",
    "words_top_vec_ted = model_ted[words_ted_top1000]"
   ]
  },
  {
   "cell_type": "code",
   "execution_count": 32,
   "metadata": {},
   "outputs": [],
   "source": [
    "from sklearn.manifold import TSNE\n",
    "tsne = TSNE(n_components=2, random_state=0)\n",
    "words_top_ted_tsne = tsne.fit_transform(words_top_vec_ted)"
   ]
  },
  {
   "cell_type": "code",
   "execution_count": 34,
   "metadata": {},
   "outputs": [
    {
     "data": {
      "text/html": [
       "\n",
       "<div class=\"bk-root\">\n",
       "    <div class=\"bk-plotdiv\" id=\"b6bf0110-a53a-4324-861c-a22631cd315a\"></div>\n",
       "</div>"
      ]
     },
     "metadata": {},
     "output_type": "display_data"
    },
    {
     "data": {
      "application/javascript": [
       "(function(root) {\n",
       "  function embed_document(root) {\n",
       "    \n",
       "  var docs_json = {\"27c84202-212a-4f16-9517-be24fefe0d6e\":{\"roots\":{\"references\":[{\"attributes\":{\"plot\":null,\"text\":\"word2vec T-SNE for most common words\"},\"id\":\"e536ec04-ebb8-4620-b9b7-f9512a317158\",\"type\":\"Title\"},{\"attributes\":{\"active_drag\":\"auto\",\"active_inspect\":\"auto\",\"active_scroll\":\"auto\",\"active_tap\":\"auto\",\"tools\":[{\"id\":\"21c3442b-2d15-466a-a865-86a950d2a571\",\"type\":\"PanTool\"},{\"id\":\"134fbb49-0c1a-4cfd-b1e3-285efd8e9501\",\"type\":\"WheelZoomTool\"},{\"id\":\"06e0a530-d87f-4be5-83fd-14ec110e8813\",\"type\":\"ResetTool\"},{\"id\":\"0aac6831-990b-4aaf-b0f3-1d65bb847a31\",\"type\":\"SaveTool\"}]},\"id\":\"c834fd29-7bac-4b1d-9b1a-b6f27f0e7139\",\"type\":\"Toolbar\"},{\"attributes\":{\"dimension\":1,\"plot\":{\"id\":\"a4ec9ab5-c371-4d7f-bf15-d69ae38fd36f\",\"subtype\":\"Figure\",\"type\":\"Plot\"},\"ticker\":{\"id\":\"c40d8fbf-eb4d-4250-81f2-a3f1060322b7\",\"type\":\"BasicTicker\"}},\"id\":\"d51cd567-7e30-452b-8654-9ff6c3b65dbd\",\"type\":\"Grid\"},{\"attributes\":{},\"id\":\"a91e8d77-fa23-4960-b070-5d2dcc842003\",\"type\":\"LinearScale\"},{\"attributes\":{\"source\":{\"id\":\"ad78e69d-9866-4353-8571-baf9b7c39e1f\",\"type\":\"ColumnDataSource\"}},\"id\":\"310c2a44-796c-490c-920f-8ae8353a24d3\",\"type\":\"CDSView\"},{\"attributes\":{},\"id\":\"0aac6831-990b-4aaf-b0f3-1d65bb847a31\",\"type\":\"SaveTool\"},{\"attributes\":{},\"id\":\"21c3442b-2d15-466a-a865-86a950d2a571\",\"type\":\"PanTool\"},{\"attributes\":{\"formatter\":{\"id\":\"4118778e-6006-4468-87c7-683dfe0e91cb\",\"type\":\"BasicTickFormatter\"},\"plot\":{\"id\":\"a4ec9ab5-c371-4d7f-bf15-d69ae38fd36f\",\"subtype\":\"Figure\",\"type\":\"Plot\"},\"ticker\":{\"id\":\"c40d8fbf-eb4d-4250-81f2-a3f1060322b7\",\"type\":\"BasicTicker\"}},\"id\":\"707804bf-03fa-49a3-a45f-cc318fda5b27\",\"type\":\"LinearAxis\"},{\"attributes\":{},\"id\":\"06e0a530-d87f-4be5-83fd-14ec110e8813\",\"type\":\"ResetTool\"},{\"attributes\":{\"fill_color\":{\"value\":\"#1f77b4\"},\"line_color\":{\"value\":\"#1f77b4\"},\"size\":{\"units\":\"screen\",\"value\":8},\"x\":{\"field\":\"x1\"},\"y\":{\"field\":\"x2\"}},\"id\":\"3d48982e-9a55-49af-b7c8-6f1da86e6331\",\"type\":\"Circle\"},{\"attributes\":{},\"id\":\"e8be7ede-1495-48ed-a731-a7af8f7cd2e2\",\"type\":\"LinearScale\"},{\"attributes\":{},\"id\":\"e6d05b9b-5c99-415c-8499-9f818f48ed42\",\"type\":\"BasicTicker\"},{\"attributes\":{\"data_source\":{\"id\":\"ad78e69d-9866-4353-8571-baf9b7c39e1f\",\"type\":\"ColumnDataSource\"},\"glyph\":{\"id\":\"3d48982e-9a55-49af-b7c8-6f1da86e6331\",\"type\":\"Circle\"},\"hover_glyph\":null,\"muted_glyph\":null,\"nonselection_glyph\":{\"id\":\"63c048e3-3666-4276-a756-0160c9cce166\",\"type\":\"Circle\"},\"selection_glyph\":null,\"view\":{\"id\":\"310c2a44-796c-490c-920f-8ae8353a24d3\",\"type\":\"CDSView\"}},\"id\":\"85821861-60e9-4d16-b6d8-cfa16eba9e76\",\"type\":\"GlyphRenderer\"},{\"attributes\":{\"plot\":{\"id\":\"a4ec9ab5-c371-4d7f-bf15-d69ae38fd36f\",\"subtype\":\"Figure\",\"type\":\"Plot\"},\"source\":{\"id\":\"ad78e69d-9866-4353-8571-baf9b7c39e1f\",\"type\":\"ColumnDataSource\"},\"text\":{\"field\":\"names\"},\"text_align\":\"center\",\"text_color\":{\"value\":\"#555555\"},\"text_font_size\":{\"value\":\"8pt\"},\"x\":{\"field\":\"x1\"},\"y\":{\"field\":\"x2\"},\"y_offset\":{\"value\":6}},\"id\":\"765ba6fe-9040-4245-9f26-8a11b0c59f1a\",\"type\":\"LabelSet\"},{\"attributes\":{},\"id\":\"134fbb49-0c1a-4cfd-b1e3-285efd8e9501\",\"type\":\"WheelZoomTool\"},{\"attributes\":{\"callback\":null},\"id\":\"74ac5fc2-981a-496c-aa10-4bdb2144a96b\",\"type\":\"DataRange1d\"},{\"attributes\":{\"formatter\":{\"id\":\"a49883e6-001a-4c92-8a7f-debade4a9c63\",\"type\":\"BasicTickFormatter\"},\"plot\":{\"id\":\"a4ec9ab5-c371-4d7f-bf15-d69ae38fd36f\",\"subtype\":\"Figure\",\"type\":\"Plot\"},\"ticker\":{\"id\":\"e6d05b9b-5c99-415c-8499-9f818f48ed42\",\"type\":\"BasicTicker\"}},\"id\":\"7b751c13-3f4e-439b-9240-013074104f5d\",\"type\":\"LinearAxis\"},{\"attributes\":{},\"id\":\"c40d8fbf-eb4d-4250-81f2-a3f1060322b7\",\"type\":\"BasicTicker\"},{\"attributes\":{\"fill_alpha\":{\"value\":0.1},\"fill_color\":{\"value\":\"#1f77b4\"},\"line_alpha\":{\"value\":0.1},\"line_color\":{\"value\":\"#1f77b4\"},\"size\":{\"units\":\"screen\",\"value\":8},\"x\":{\"field\":\"x1\"},\"y\":{\"field\":\"x2\"}},\"id\":\"63c048e3-3666-4276-a756-0160c9cce166\",\"type\":\"Circle\"},{\"attributes\":{},\"id\":\"4118778e-6006-4468-87c7-683dfe0e91cb\",\"type\":\"BasicTickFormatter\"},{\"attributes\":{\"below\":[{\"id\":\"7b751c13-3f4e-439b-9240-013074104f5d\",\"type\":\"LinearAxis\"}],\"left\":[{\"id\":\"707804bf-03fa-49a3-a45f-cc318fda5b27\",\"type\":\"LinearAxis\"}],\"renderers\":[{\"id\":\"7b751c13-3f4e-439b-9240-013074104f5d\",\"type\":\"LinearAxis\"},{\"id\":\"763c32e2-48b0-4c53-b2cc-2a67976cf454\",\"type\":\"Grid\"},{\"id\":\"707804bf-03fa-49a3-a45f-cc318fda5b27\",\"type\":\"LinearAxis\"},{\"id\":\"d51cd567-7e30-452b-8654-9ff6c3b65dbd\",\"type\":\"Grid\"},{\"id\":\"85821861-60e9-4d16-b6d8-cfa16eba9e76\",\"type\":\"GlyphRenderer\"},{\"id\":\"765ba6fe-9040-4245-9f26-8a11b0c59f1a\",\"type\":\"LabelSet\"}],\"title\":{\"id\":\"e536ec04-ebb8-4620-b9b7-f9512a317158\",\"type\":\"Title\"},\"toolbar\":{\"id\":\"c834fd29-7bac-4b1d-9b1a-b6f27f0e7139\",\"type\":\"Toolbar\"},\"toolbar_location\":\"above\",\"x_range\":{\"id\":\"1ef08491-8fdf-4a49-a0c2-6ee89e14ebbb\",\"type\":\"DataRange1d\"},\"x_scale\":{\"id\":\"e8be7ede-1495-48ed-a731-a7af8f7cd2e2\",\"type\":\"LinearScale\"},\"y_range\":{\"id\":\"74ac5fc2-981a-496c-aa10-4bdb2144a96b\",\"type\":\"DataRange1d\"},\"y_scale\":{\"id\":\"a91e8d77-fa23-4960-b070-5d2dcc842003\",\"type\":\"LinearScale\"}},\"id\":\"a4ec9ab5-c371-4d7f-bf15-d69ae38fd36f\",\"subtype\":\"Figure\",\"type\":\"Plot\"},{\"attributes\":{\"callback\":null},\"id\":\"1ef08491-8fdf-4a49-a0c2-6ee89e14ebbb\",\"type\":\"DataRange1d\"},{\"attributes\":{},\"id\":\"a49883e6-001a-4c92-8a7f-debade4a9c63\",\"type\":\"BasicTickFormatter\"},{\"attributes\":{\"callback\":null,\"column_names\":[\"x2\",\"x1\",\"names\"],\"data\":{\"names\":[\"the\",\"and\",\"to\",\"of\",\"a\",\"that\",\"i\",\"in\",\"it\",\"you\",\"we\",\"is\",\"s\",\"this\",\"so\",\"they\",\"was\",\"for\",\"are\",\"have\",\"but\",\"what\",\"on\",\"with\",\"can\",\"t\",\"about\",\"there\",\"be\",\"as\",\"at\",\"all\",\"not\",\"do\",\"my\",\"one\",\"re\",\"people\",\"like\",\"if\",\"from\",\"now\",\"our\",\"he\",\"an\",\"just\",\"these\",\"or\",\"when\",\"because\",\"very\",\"me\",\"out\",\"by\",\"them\",\"how\",\"know\",\"up\",\"going\",\"had\",\"more\",\"think\",\"who\",\"were\",\"see\",\"your\",\"their\",\"which\",\"would\",\"here\",\"really\",\"get\",\"ve\",\"then\",\"m\",\"world\",\"us\",\"time\",\"some\",\"has\",\"don\",\"actually\",\"into\",\"way\",\"where\",\"will\",\"years\",\"things\",\"other\",\"no\",\"could\",\"go\",\"well\",\"want\",\"been\",\"make\",\"right\",\"she\",\"said\",\"something\",\"those\",\"first\",\"two\",\"than\",\"much\",\"also\",\"look\",\"new\",\"thing\",\"little\",\"got\",\"back\",\"over\",\"most\",\"say\",\"even\",\"his\",\"life\",\"only\",\"work\",\"many\",\"take\",\"need\",\"did\",\"lot\",\"kind\",\"why\",\"good\",\"around\",\"every\",\"different\",\"down\",\"ll\",\"let\",\"her\",\"through\",\"same\",\"being\",\"come\",\"d\",\"day\",\"year\",\"three\",\"use\",\"doing\",\"put\",\"called\",\"any\",\"today\",\"percent\",\"made\",\"after\",\"thank\",\"tell\",\"great\",\"human\",\"find\",\"didn\",\"fact\",\"talk\",\"change\",\"started\",\"another\",\"idea\",\"big\",\"last\",\"own\",\"before\",\"its\",\"never\",\"should\",\"better\",\"give\",\"thought\",\"went\",\"might\",\"important\",\"000\",\"again\",\"together\",\"able\",\"still\",\"problem\",\"off\",\"next\",\"part\",\"course\",\"system\",\"him\",\"does\",\"each\",\"start\",\"show\",\"long\",\"ago\",\"story\",\"came\",\"brain\",\"few\",\"bit\",\"between\",\"used\",\"place\",\"technology\",\"women\",\"too\",\"old\",\"mean\",\"data\",\"water\",\"looking\",\"question\",\"maybe\",\"found\",\"love\",\"doesn\",\"end\",\"example\",\"10\",\"done\",\"point\",\"four\",\"real\",\"wanted\",\"ever\",\"school\",\"understand\",\"sort\",\"live\",\"call\",\"whole\",\"always\",\"children\",\"trying\",\"may\",\"person\",\"away\",\"believe\",\"feel\",\"try\",\"million\",\"working\",\"help\",\"everything\",\"five\",\"country\",\"thinking\",\"second\",\"using\",\"information\",\"money\",\"means\",\"took\",\"power\",\"times\",\"high\",\"space\",\"number\",\"kids\",\"home\",\"become\",\"create\",\"small\",\"design\",\"making\",\"best\",\"left\",\"getting\",\"future\",\"enough\",\"man\",\"quite\",\"city\",\"without\",\"sense\",\"happened\",\"comes\",\"social\",\"probably\",\"light\",\"less\",\"talking\",\"energy\",\"am\",\"building\",\"science\",\"food\",\"body\",\"told\",\"interesting\",\"half\",\"ask\",\"pretty\",\"play\",\"hard\",\"anything\",\"lives\",\"countries\",\"coming\",\"such\",\"family\",\"stuff\",\"dollars\",\"moment\",\"earth\",\"20\",\"imagine\",\"across\",\"side\",\"saw\",\"while\",\"happen\",\"okay\",\"once\",\"build\",\"having\",\"men\",\"later\",\"experience\",\"makes\",\"asked\",\"living\",\"seen\",\"says\",\"room\",\"hand\",\"simple\",\"health\",\"ways\",\"else\",\"case\",\"yet\",\"almost\",\"young\",\"days\",\"nothing\",\"bad\",\"care\",\"happens\",\"goes\",\"move\",\"states\",\"reason\",\"computer\",\"open\",\"learn\",\"africa\",\"process\",\"inside\",\"someone\",\"six\",\"far\",\"project\",\"mind\",\"remember\",\"single\",\"picture\",\"both\",\"whether\",\"problems\",\"saying\",\"community\",\"basically\",\"already\",\"within\",\"looked\",\"myself\",\"billion\",\"possible\",\"often\",\"business\",\"planet\",\"global\",\"top\",\"everybody\",\"sure\",\"public\",\"set\",\"wrong\",\"car\",\"book\",\"keep\",\"yes\",\"answer\",\"oh\",\"sometimes\",\"hope\",\"true\",\"history\",\"war\",\"guy\",\"child\",\"instead\",\"months\",\"ideas\",\"looks\",\"matter\",\"government\",\"amazing\",\"united\",\"since\",\"bring\",\"age\",\"cells\",\"job\",\"heard\",\"until\",\"face\",\"wasn\",\"100\",\"read\",\"control\",\"isn\",\"research\",\"30\",\"words\",\"u\",\"group\",\"under\",\"self\",\"somebody\",\"built\",\"state\",\"woman\",\"turn\",\"beautiful\",\"friends\",\"line\",\"knew\",\"couple\",\"order\",\"form\",\"yeah\",\"internet\",\"middle\",\"music\",\"piece\",\"nature\",\"head\",\"though\",\"stop\",\"everyone\",\"50\",\"places\",\"video\",\"learned\",\"language\",\"run\",\"night\",\"decided\",\"study\",\"word\",\"cancer\",\"works\",\"taking\",\"became\",\"exactly\",\"species\",\"completely\",\"society\",\"education\",\"against\",\"stories\",\"large\",\"share\",\"level\",\"heart\",\"america\",\"model\",\"questions\",\"gets\",\"mother\",\"god\",\"company\",\"turns\",\"ourselves\",\"happening\",\"hear\",\"art\",\"themselves\",\"must\",\"itself\",\"rather\",\"kinds\",\"students\",\"name\",\"hours\",\"disease\",\"front\",\"house\",\"huge\",\"couldn\",\"created\",\"universe\",\"ok\",\"animals\",\"american\",\"environment\",\"worked\",\"minutes\",\"ones\",\"black\",\"perhaps\",\"1\",\"past\",\"third\",\"along\",\"finally\",\"others\",\"sound\",\"early\",\"game\",\"thousands\",\"century\",\"based\",\"least\",\"per\",\"ted\",\"lots\",\"figure\",\"free\",\"guys\",\"particular\",\"happy\",\"news\",\"learning\",\"entire\",\"won\",\"gave\",\"machine\",\"india\",\"during\",\"systems\",\"air\",\"difference\",\"outside\",\"natural\",\"taken\",\"seven\",\"given\",\"changed\",\"leave\",\"cell\",\"15\",\"close\",\"behind\",\"cities\",\"full\",\"scale\",\"china\",\"difficult\",\"takes\",\"companies\",\"yourself\",\"area\",\"reality\",\"seeing\",\"easy\",\"turned\",\"cost\",\"eyes\",\"team\",\"moving\",\"population\",\"culture\",\"york\",\"hands\",\"whatever\",\"began\",\"needs\",\"terms\",\"image\",\"needed\",\"simply\",\"beginning\",\"father\",\"local\",\"realized\",\"media\",\"parents\",\"death\",\"walk\",\"view\",\"white\",\"market\",\"parts\",\"ocean\",\"economic\",\"eight\",\"powerful\",\"week\",\"known\",\"size\",\"felt\",\"humans\",\"certain\",\"spend\",\"longer\",\"phone\",\"wonderful\",\"cannot\",\"grow\",\"common\",\"center\",\"tried\",\"fish\",\"land\",\"oil\",\"deal\",\"interested\",\"political\",\"red\",\"gone\",\"amount\",\"weeks\",\"spent\",\"opportunity\",\"paper\",\"lost\",\"national\",\"quickly\",\"blue\",\"step\",\"poor\",\"green\",\"buy\",\"wouldn\",\"growth\",\"either\",\"patients\",\"sitting\",\"ability\",\"changes\",\"write\",\"challenge\",\"south\",\"low\",\"friend\",\"growing\",\"field\",\"2\",\"shows\",\"born\",\"rest\",\"climate\",\"40\",\"test\",\"street\",\"surface\",\"incredible\",\"average\",\"morning\",\"physical\",\"value\",\"program\",\"scientists\",\"pay\",\"feeling\",\"met\",\"hundreds\",\"girl\",\"behavior\",\"economy\",\"dna\",\"complex\",\"access\",\"risk\",\"animal\",\"structure\",\"feet\",\"attention\",\"areas\",\"anyone\",\"deep\",\"watch\",\"short\",\"absolutely\",\"brought\",\"speak\",\"bottom\",\"die\",\"numbers\",\"audience\",\"stage\",\"realize\",\"images\",\"law\",\"wrote\",\"understanding\",\"books\",\"knowledge\",\"literally\",\"movement\",\"ground\",\"giving\",\"eat\",\"force\",\"seems\",\"alone\",\"telling\",\"starting\",\"hold\",\"nice\",\"sea\",\"forward\",\"developed\",\"individual\",\"kid\",\"millions\",\"support\",\"miles\",\"tools\",\"running\",\"online\",\"result\",\"act\",\"medical\",\"technologies\",\"north\",\"development\",\"lab\",\"blood\",\"fear\",\"nobody\",\"map\",\"personal\",\"voice\",\"issue\",\"key\",\"material\",\"recently\",\"12\",\"theory\",\"cut\",\"cars\",\"sun\",\"fast\",\"changing\",\"playing\",\"clear\",\"especially\",\"girls\",\"soon\",\"patient\",\"choice\",\"fly\",\"creating\",\"discovered\",\"talked\",\"relationship\",\"europe\",\"normal\",\"gives\",\"generation\",\"dark\",\"type\",\"showed\",\"asking\",\"industry\",\"seem\",\"chance\",\"rate\",\"hour\",\"designed\",\"fun\",\"color\",\"issues\",\"university\",\"several\",\"computers\",\"innovation\",\"class\",\"tiny\",\"english\",\"save\",\"allow\",\"focus\",\"developing\",\"digital\",\"solve\",\"film\",\"network\",\"special\",\"wall\",\"situation\",\"baby\",\"solution\",\"box\",\"reasons\",\"knows\",\"meet\",\"stand\",\"dead\",\"begin\",\"impact\",\"haven\",\"anybody\",\"term\",\"pictures\",\"beyond\",\"please\",\"produce\",\"ice\",\"shape\",\"non\",\"resources\",\"robot\",\"cool\",\"stay\",\"likely\",\"groups\",\"rights\",\"available\",\"truth\",\"major\",\"obviously\",\"evidence\",\"experiment\",\"cause\",\"writing\",\"drug\",\"modern\",\"incredibly\",\"becomes\",\"bigger\",\"guess\",\"aren\",\"nine\",\"product\",\"drugs\",\"lived\",\"involved\",\"perfect\",\"month\",\"google\",\"similar\",\"putting\",\"effect\",\"pick\",\"eye\",\"message\",\"web\",\"quality\",\"violence\",\"security\",\"evolution\",\"office\",\"basic\",\"indeed\",\"general\",\"solar\",\"towards\",\"drive\",\"present\",\"worth\",\"listen\",\"send\",\"revolution\",\"hundred\",\"explain\",\"died\",\"certainly\",\"ready\",\"teach\",\"journey\",\"25\",\"walking\",\"hit\",\"led\",\"international\",\"approach\",\"200\",\"games\",\"scientific\",\"60\",\"crazy\",\"potential\",\"chinese\",\"communities\",\"device\",\"camera\",\"source\",\"carbon\",\"sex\",\"rules\",\"sounds\",\"boy\",\"reach\",\"starts\",\"west\",\"examples\",\"3\",\"success\",\"software\",\"measure\",\"particularly\",\"totally\",\"suddenly\",\"action\",\"higher\",\"college\",\"code\",\"eventually\",\"democracy\",\"minute\",\"among\",\"sit\",\"largest\",\"showing\",\"hospital\",\"period\",\"notice\",\"mass\",\"develop\",\"dream\",\"onto\",\"add\",\"plants\",\"break\",\"memory\",\"zero\",\"everywhere\",\"11\",\"favorite\",\"speed\",\"moved\",\"schools\",\"response\",\"wants\",\"individuals\",\"table\",\"extremely\",\"movie\",\"wait\",\"anyway\",\"follow\",\"medicine\",\"trust\",\"biggest\",\"plant\",\"watching\",\"organization\",\"creative\",\"road\",\"worse\",\"choose\",\"results\",\"500\",\"lead\",\"exciting\",\"grew\",\"materials\",\"jobs\",\"positive\",\"plan\",\"poverty\",\"east\",\"safe\",\"strong\",\"fall\",\"essentially\",\"door\",\"object\",\"vision\",\"son\",\"continue\",\"further\",\"happiness\",\"student\",\"doctor\",\"role\",\"including\",\"named\",\"objects\",\"extraordinary\",\"standing\",\"skin\",\"leaders\",\"usually\",\"projects\",\"african\",\"conversation\",\"models\",\"allowed\",\"supposed\",\"interest\",\"faster\",\"police\",\"families\",\"fight\",\"tree\",\"connected\",\"cases\",\"screen\",\"5\",\"somewhere\",\"goal\",\"shown\",\"buildings\",\"finding\"],\"x1\":{\"__ndarray__\":\"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\",\"dtype\":\"float32\",\"shape\":[1000]},\"x2\":{\"__ndarray__\":\"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\",\"dtype\":\"float32\",\"shape\":[1000]}}},\"id\":\"ad78e69d-9866-4353-8571-baf9b7c39e1f\",\"type\":\"ColumnDataSource\"},{\"attributes\":{\"plot\":{\"id\":\"a4ec9ab5-c371-4d7f-bf15-d69ae38fd36f\",\"subtype\":\"Figure\",\"type\":\"Plot\"},\"ticker\":{\"id\":\"e6d05b9b-5c99-415c-8499-9f818f48ed42\",\"type\":\"BasicTicker\"}},\"id\":\"763c32e2-48b0-4c53-b2cc-2a67976cf454\",\"type\":\"Grid\"}],\"root_ids\":[\"a4ec9ab5-c371-4d7f-bf15-d69ae38fd36f\"]},\"title\":\"Bokeh Application\",\"version\":\"0.12.13\"}};\n",
       "  var render_items = [{\"docid\":\"27c84202-212a-4f16-9517-be24fefe0d6e\",\"elementid\":\"b6bf0110-a53a-4324-861c-a22631cd315a\",\"modelid\":\"a4ec9ab5-c371-4d7f-bf15-d69ae38fd36f\"}];\n",
       "  root.Bokeh.embed.embed_items_notebook(docs_json, render_items);\n",
       "\n",
       "  }\n",
       "  if (root.Bokeh !== undefined) {\n",
       "    embed_document(root);\n",
       "  } else {\n",
       "    var attempts = 0;\n",
       "    var timer = setInterval(function(root) {\n",
       "      if (root.Bokeh !== undefined) {\n",
       "        embed_document(root);\n",
       "        clearInterval(timer);\n",
       "      }\n",
       "      attempts++;\n",
       "      if (attempts > 100) {\n",
       "        console.log(\"Bokeh: ERROR: Unable to run BokehJS code because BokehJS library is missing\")\n",
       "        clearInterval(timer);\n",
       "      }\n",
       "    }, 10, root)\n",
       "  }\n",
       "})(window);"
      ],
      "application/vnd.bokehjs_exec.v0+json": ""
     },
     "metadata": {
      "application/vnd.bokehjs_exec.v0+json": {
       "id": "a4ec9ab5-c371-4d7f-bf15-d69ae38fd36f"
      }
     },
     "output_type": "display_data"
    }
   ],
   "source": [
    "p = figure(tools=\"pan,wheel_zoom,reset,save\",\n",
    "           toolbar_location=\"above\",\n",
    "           title=\"word2vec T-SNE for most common words\")\n",
    "\n",
    "source = ColumnDataSource(data=dict(x1=words_top_ted_tsne[:,0],\n",
    "                                    x2=words_top_ted_tsne[:,1],\n",
    "                                    names=words_ted_top1000))\n",
    "\n",
    "p.scatter(x=\"x1\", y=\"x2\", size=8, source=source)\n",
    "\n",
    "labels = LabelSet(x=\"x1\", y=\"x2\", text=\"names\", y_offset=6,\n",
    "                  text_font_size=\"8pt\", text_color=\"#555555\",\n",
    "                  source=source, text_align='center')\n",
    "p.add_layout(labels)\n",
    "\n",
    "show(p)"
   ]
  },
  {
   "cell_type": "markdown",
   "metadata": {},
   "source": [
    "### Part 5: Wiki Learnt Representations"
   ]
  },
  {
   "cell_type": "markdown",
   "metadata": {},
   "source": [
    "Download dataset"
   ]
  },
  {
   "cell_type": "code",
   "execution_count": 17,
   "metadata": {},
   "outputs": [],
   "source": [
    "if not os.path.isfile('wikitext-103-raw-v1.zip'):\n",
    "    urllib.urlretrieve(\"https://s3.amazonaws.com/research.metamind.io/wikitext/wikitext-103-raw-v1.zip\", filename=\"wikitext-103-raw-v1.zip\")"
   ]
  },
  {
   "cell_type": "code",
   "execution_count": 18,
   "metadata": {},
   "outputs": [],
   "source": [
    "with zipfile.ZipFile('wikitext-103-raw-v1.zip', 'r') as z:\n",
    "    input_text = unicode(z.open('wikitext-103-raw/wiki.train.raw', 'r').read(), 'utf-8') # Thanks Robert Bastian"
   ]
  },
  {
   "cell_type": "markdown",
   "metadata": {},
   "source": [
    "Preprocess sentences (note that it's important to remove small sentences for performance)"
   ]
  },
  {
   "cell_type": "code",
   "execution_count": 35,
   "metadata": {},
   "outputs": [],
   "source": [
    "sentences_wiki = []\n",
    "for line in input_text.split('\\n'):\n",
    "    s = [x for x in line.split('.') if x and len(x.split()) >= 5]\n",
    "    sentences_wiki.extend(s)\n",
    "    \n",
    "for s_i in range(len(sentences_wiki)):\n",
    "    sentences_wiki[s_i] = re.sub(\"[^a-z]\", \" \", sentences_wiki[s_i].lower())\n",
    "    sentences_wiki[s_i] = re.sub(r'\\([^)]*\\)', '', sentences_wiki[s_i])\n",
    "del input_text"
   ]
  },
  {
   "cell_type": "code",
   "execution_count": 36,
   "metadata": {},
   "outputs": [
    {
     "name": "stdout",
     "output_type": "stream",
     "text": [
      "4267112\n",
      "853422\n"
     ]
    }
   ],
   "source": [
    "# sample 1/5 of the data\n",
    "shuffle(sentences_wiki)\n",
    "print(len(sentences_wiki))\n",
    "sentences_wiki = sentences_wiki[:int(len(sentences_wiki)/5)]\n",
    "print(len(sentences_wiki))"
   ]
  },
  {
   "cell_type": "code",
   "execution_count": 45,
   "metadata": {},
   "outputs": [
    {
     "name": "stdout",
     "output_type": "stream",
     "text": [
      "[u' in persona   they are based on japanese deities   persona   will use characters inspired by popular fictional and historical outlaws ', u' the signing of the agreement starts the clock for numerous deadlines that must be met in an effort to improve the department  s handling of use     of     force incidents ']\n"
     ]
    }
   ],
   "source": [
    "print sentences_wiki[:2]"
   ]
  },
  {
   "cell_type": "code",
   "execution_count": 46,
   "metadata": {},
   "outputs": [],
   "source": [
    "tokenised_sentences_wiki = []\n",
    "for sent_str in sentences_wiki:\n",
    "    tokens = re.sub(r\"[^a-z0-9]+\", \" \", sent_str.lower()).split()\n",
    "    tokenised_sentences_wiki.append(tokens)"
   ]
  },
  {
   "cell_type": "markdown",
   "metadata": {},
   "source": [
    "Now, repeat all the same steps that you performed above. You should be able to reuse essentially all the code."
   ]
  },
  {
   "cell_type": "code",
   "execution_count": 49,
   "metadata": {},
   "outputs": [],
   "source": [
    "wiki_word_list = [word for sentence in tokenised_sentences_wiki for word in sentence]\n",
    "distribution = FreqDist(wiki_word_list)\n",
    "top1000 = distribution.most_common(1000)\n",
    "counts_wiki_top1000 = [count for word, count in top1000]\n",
    "words_wiki_top1000 = [word for word, count in top1000]"
   ]
  },
  {
   "cell_type": "code",
   "execution_count": 50,
   "metadata": {},
   "outputs": [
    {
     "data": {
      "text/html": [
       "\n",
       "<div class=\"bk-root\">\n",
       "    <div class=\"bk-plotdiv\" id=\"1c3d8b8e-d440-4cc7-9032-a80d95b0f30d\"></div>\n",
       "</div>"
      ]
     },
     "metadata": {},
     "output_type": "display_data"
    },
    {
     "data": {
      "application/javascript": [
       "(function(root) {\n",
       "  function embed_document(root) {\n",
       "    \n",
       "  var docs_json = {\"1b2ccca7-f25a-4571-858b-7862fb507542\":{\"roots\":{\"references\":[{\"attributes\":{\"formatter\":{\"id\":\"a3f7c0ac-c00a-4263-ac9e-4bc9f74b3bff\",\"type\":\"BasicTickFormatter\"},\"plot\":{\"id\":\"bffdec17-bf1b-49e1-a94a-cef13ba2bc73\",\"subtype\":\"Figure\",\"type\":\"Plot\"},\"ticker\":{\"id\":\"e887db35-fccc-4f4a-bd7b-d21d32bd84ec\",\"type\":\"BasicTicker\"}},\"id\":\"937210e7-4cc8-4f7f-9871-e7ffdc8dc8cd\",\"type\":\"LinearAxis\"},{\"attributes\":{},\"id\":\"40f50d4f-22ba-41af-91da-24906a7f8958\",\"type\":\"ResetTool\"},{\"attributes\":{\"active_drag\":\"auto\",\"active_inspect\":\"auto\",\"active_scroll\":\"auto\",\"active_tap\":\"auto\",\"tools\":[{\"id\":\"fc87d1f7-12e1-4467-898e-63a82a17f705\",\"type\":\"PanTool\"},{\"id\":\"bf9aff88-e55a-40b0-827b-b28f731c5f05\",\"type\":\"WheelZoomTool\"},{\"id\":\"40f50d4f-22ba-41af-91da-24906a7f8958\",\"type\":\"ResetTool\"},{\"id\":\"e92f52dc-e4bc-4ad5-a70e-708c3d59baa2\",\"type\":\"SaveTool\"}]},\"id\":\"4b38b78d-6f94-4619-beae-064582515fe9\",\"type\":\"Toolbar\"},{\"attributes\":{\"source\":{\"id\":\"75967f75-1612-47dd-834c-4bead5fc75d2\",\"type\":\"ColumnDataSource\"}},\"id\":\"f52cc9c8-f450-4f8e-8d2f-e13d21bad308\",\"type\":\"CDSView\"},{\"attributes\":{},\"id\":\"e92f52dc-e4bc-4ad5-a70e-708c3d59baa2\",\"type\":\"SaveTool\"},{\"attributes\":{\"below\":[{\"id\":\"ea8a097e-b21e-4c70-93ee-f0648acc94e5\",\"type\":\"LinearAxis\"}],\"left\":[{\"id\":\"937210e7-4cc8-4f7f-9871-e7ffdc8dc8cd\",\"type\":\"LinearAxis\"}],\"renderers\":[{\"id\":\"ea8a097e-b21e-4c70-93ee-f0648acc94e5\",\"type\":\"LinearAxis\"},{\"id\":\"ffaf5325-b952-445f-8a24-6f90e9515044\",\"type\":\"Grid\"},{\"id\":\"937210e7-4cc8-4f7f-9871-e7ffdc8dc8cd\",\"type\":\"LinearAxis\"},{\"id\":\"5a132634-db21-4011-800c-da50a8b85c04\",\"type\":\"Grid\"},{\"id\":\"c5c79f30-4694-40a2-9298-5dd2394a2cd7\",\"type\":\"GlyphRenderer\"}],\"title\":{\"id\":\"6aeee838-003c-412a-8ea1-8c485a0dd839\",\"type\":\"Title\"},\"toolbar\":{\"id\":\"4b38b78d-6f94-4619-beae-064582515fe9\",\"type\":\"Toolbar\"},\"toolbar_location\":\"above\",\"x_range\":{\"id\":\"bb18eca0-6563-4ff7-b3f5-f5d916bcd928\",\"type\":\"DataRange1d\"},\"x_scale\":{\"id\":\"b27e54e2-5e6b-4219-b516-8571b697d10d\",\"type\":\"LinearScale\"},\"y_range\":{\"id\":\"d477db8e-bd5f-4df2-b391-c13bb4591497\",\"type\":\"DataRange1d\"},\"y_scale\":{\"id\":\"724e252a-b0b1-4c53-86a5-446cb77bfa72\",\"type\":\"LinearScale\"}},\"id\":\"bffdec17-bf1b-49e1-a94a-cef13ba2bc73\",\"subtype\":\"Figure\",\"type\":\"Plot\"},{\"attributes\":{},\"id\":\"bf9aff88-e55a-40b0-827b-b28f731c5f05\",\"type\":\"WheelZoomTool\"},{\"attributes\":{},\"id\":\"724e252a-b0b1-4c53-86a5-446cb77bfa72\",\"type\":\"LinearScale\"},{\"attributes\":{\"callback\":null,\"column_names\":[\"top\",\"right\",\"left\"],\"data\":{\"left\":{\"__ndarray__\":\"AAAAAADUnUDNzMzMrNPMQM3MzMxs9tpAmpmZmYHB40DNzMzMzAfqQAAAAAAMJ/BAmpmZmTFK80AzMzMzV232QM3MzMx8kPlAZ2ZmZqKz/EAAAAAAyNb/QM3MzMz2fAFBmpmZmYkOA0FnZmZmHKAEQTMzMzOvMQZBAAAAAELDB0HNzMzM1FQJQZqZmZln5gpBZ2ZmZvp3DEEzMzMzjQkOQQAAAAAgmw9BZ2ZmZlmWEEHNzMzMIl8RQTMzMzPsJxJBmpmZmbXwEkEAAAAAf7kTQWdmZmZIghRBzczMzBFLFUEzMzMz2xMWQZqZmZmk3BZBAAAAAG6lF0FnZmZmN24YQc3MzMwANxlBMzMzM8r/GUGamZmZk8gaQQAAAABdkRtBZ2ZmZiZaHEHNzMzM7yIdQTMzMzO56x1BmpmZmYK0HkEAAAAATH0fQTMzM7MKIyBBZ2ZmZm+HIEGamZkZ1OsgQc3MzMw4UCFBAAAAgJ20IUEzMzMzAhkiQWdmZuZmfSJBmpmZmcvhIkHNzMxMMEYjQQAAAACVqiNBMzMzs/kOJEFnZmZmXnMkQZqZmRnD1yRBzczMzCc8JUEAAACAjKAlQTMzMzPxBCZBZ2Zm5lVpJkGamZmZus0mQc3MzEwfMidBAAAAAISWJ0EzMzOz6PonQWdmZmZNXyhBmpmZGbLDKEHNzMzMFigpQQAAAIB7jClBMzMzM+DwKUFnZmbmRFUqQZqZmZmpuSpBzczMTA4eK0EAAAAAc4IrQTMzM7PX5itBZ2ZmZjxLLEGamZkZoa8sQc3MzMwFFC1BAAAAgGp4LUEzMzMzz9wtQWdmZuYzQS5BmpmZmZilLkHNzMxM/QkvQQAAAABibi9BMzMzs8bSL0EzMzOzlRswQc3MzAzITTBBZ2ZmZvp/MEEAAADALLIwQZqZmRlf5DBBMzMzc5EWMUHNzMzMw0gxQWdmZib2ejFBAAAAgCitMUGamZnZWt8xQTMzMzONETJBzczMjL9DMkFnZmbm8XUyQQAAAEAkqDJBmpmZmVbaMkEzMzPziAwzQc3MzEy7PjNBZ2Zmpu1wM0E=\",\"dtype\":\"float64\",\"shape\":[100]},\"right\":{\"__ndarray__\":\"zczMzKzTzEDNzMzMbPbaQJqZmZmBweNAzczMzMwH6kAAAAAADCfwQJqZmZkxSvNAMzMzM1dt9kDNzMzMfJD5QGdmZmais/xAAAAAAMjW/0DNzMzM9nwBQZqZmZmJDgNBZ2ZmZhygBEEzMzMzrzEGQQAAAABCwwdBzczMzNRUCUGamZmZZ+YKQWdmZmb6dwxBMzMzM40JDkEAAAAAIJsPQWdmZmZZlhBBzczMzCJfEUEzMzMz7CcSQZqZmZm18BJBAAAAAH+5E0FnZmZmSIIUQc3MzMwRSxVBMzMzM9sTFkGamZmZpNwWQQAAAABupRdBZ2ZmZjduGEHNzMzMADcZQTMzMzPK/xlBmpmZmZPIGkEAAAAAXZEbQWdmZmYmWhxBzczMzO8iHUEzMzMzuesdQZqZmZmCtB5BAAAAAEx9H0EzMzOzCiMgQWdmZmZvhyBBmpmZGdTrIEHNzMzMOFAhQQAAAICdtCFBMzMzMwIZIkFnZmbmZn0iQZqZmZnL4SJBzczMTDBGI0EAAAAAlaojQTMzM7P5DiRBZ2ZmZl5zJEGamZkZw9ckQc3MzMwnPCVBAAAAgIygJUEzMzMz8QQmQWdmZuZVaSZBmpmZmbrNJkHNzMxMHzInQQAAAACElidBMzMzs+j6J0FnZmZmTV8oQZqZmRmywyhBzczMzBYoKUEAAACAe4wpQTMzMzPg8ClBZ2Zm5kRVKkGamZmZqbkqQc3MzEwOHitBAAAAAHOCK0EzMzOz1+YrQWdmZmY8SyxBmpmZGaGvLEHNzMzMBRQtQQAAAIBqeC1BMzMzM8/cLUFnZmbmM0EuQZqZmZmYpS5BzczMTP0JL0EAAAAAYm4vQTMzM7PG0i9BMzMzs5UbMEHNzMwMyE0wQWdmZmb6fzBBAAAAwCyyMEGamZkZX+QwQTMzM3ORFjFBzczMzMNIMUFnZmYm9noxQQAAAIAorTFBmpmZ2VrfMUEzMzMzjREyQc3MzIy/QzJBZ2Zm5vF1MkEAAABAJKgyQZqZmZlW2jJBMzMz84gMM0HNzMxMuz4zQWdmZqbtcDNBAAAAACCjM0E=\",\"dtype\":\"float64\",\"shape\":[100]},\"top\":{\"__ndarray__\":\"l95Q6ozEEj/kXLCXBNnGPskLbm2s47Q+vI7JiJccmj6vESWkglWPPscLbm2s43Q+tBElpIJVjz6qESWkglWPPgAAAAAAAAAAzgtubazjhD7HC25trOOEPscLbm2s44Q+xwtubazjdD4AAAAAAAAAAAAAAAAAAAAAAAAAAAAAAADHC25trON0PgAAAAAAAAAAAAAAAAAAAAAAAAAAAAAAAAAAAAAAAAAAAAAAAAAAAAAAAAAAAAAAAAAAAAAAAAAAAAAAAAAAAAAAAAAAAAAAAAAAAAAAAAAA1AtubazjdD4AAAAAAAAAAAAAAAAAAAAAuQtubazjdD4AAAAAAAAAAAAAAAAAAAAAuQtubazjdD4AAAAAAAAAAAAAAAAAAAAAAAAAAAAAAAAAAAAAAAAAALkLbm2s43Q+AAAAAAAAAAAAAAAAAAAAAAAAAAAAAAAA1AtubazjdD4AAAAAAAAAAAAAAAAAAAAAAAAAAAAAAAAAAAAAAAAAAAAAAAAAAAAAAAAAAAAAAAAAAAAAAAAAAAAAAAAAAAAAAAAAAAAAAAAAAAAAAAAAAAAAAAAAAAAAAAAAAAAAAAAAAAAAAAAAAAAAAAAAAAAAAAAAAAAAAAAAAAAAAAAAAAAAAAAAAAAAAAAAAAAAAAAAAAAAAAAAAAAAAAAAAAAAAAAAAAAAAAAAAAAAAAAAAAAAAAAAAAAAAAAAAAAAAAAAAAAAAAAAAAAAAAAAAAAAAAAAAAAAAAAAAAAAAAAAAAAAAAAAAAAAAAAAAAAAAAAAAAAAAAAAAAAAAAAAAAAAAAAAAAAAAAAAAAAAAAAAAAAAAAAAAAAAAAAAAAAAAAAAAAAAAAAAAAAAAAAAAAAAAAAAAAAAAAAAAAAAAAAAAAAAAAAAAAAAAAAAAAAAAAAAAAAAAAAAAAAAAAAAAAAAAAAAAAAAAAAAAAAAAAAAAAAAAAAAAAAAAAAAAAAAAAAAAAAAAAAAAAAAAAAAAAAAAAAAAAAAAAAAAAAAAAAAAAAAAAAAAAAAAAAAAAAAAAAAAAAAAAAAAAAAAAAAAAAACQxubazjdD4=\",\"dtype\":\"float64\",\"shape\":[100]}}},\"id\":\"75967f75-1612-47dd-834c-4bead5fc75d2\",\"type\":\"ColumnDataSource\"},{\"attributes\":{\"data_source\":{\"id\":\"75967f75-1612-47dd-834c-4bead5fc75d2\",\"type\":\"ColumnDataSource\"},\"glyph\":{\"id\":\"acde88ec-e845-400f-bd2e-1bda797aac0d\",\"type\":\"Quad\"},\"hover_glyph\":null,\"muted_glyph\":null,\"nonselection_glyph\":{\"id\":\"da5b96eb-0b3e-4df0-943e-5255485a1646\",\"type\":\"Quad\"},\"selection_glyph\":null,\"view\":{\"id\":\"f52cc9c8-f450-4f8e-8d2f-e13d21bad308\",\"type\":\"CDSView\"}},\"id\":\"c5c79f30-4694-40a2-9298-5dd2394a2cd7\",\"type\":\"GlyphRenderer\"},{\"attributes\":{},\"id\":\"b27e54e2-5e6b-4219-b516-8571b697d10d\",\"type\":\"LinearScale\"},{\"attributes\":{\"dimension\":1,\"plot\":{\"id\":\"bffdec17-bf1b-49e1-a94a-cef13ba2bc73\",\"subtype\":\"Figure\",\"type\":\"Plot\"},\"ticker\":{\"id\":\"e887db35-fccc-4f4a-bd7b-d21d32bd84ec\",\"type\":\"BasicTicker\"}},\"id\":\"5a132634-db21-4011-800c-da50a8b85c04\",\"type\":\"Grid\"},{\"attributes\":{},\"id\":\"a3f7c0ac-c00a-4263-ac9e-4bc9f74b3bff\",\"type\":\"BasicTickFormatter\"},{\"attributes\":{},\"id\":\"fc87d1f7-12e1-4467-898e-63a82a17f705\",\"type\":\"PanTool\"},{\"attributes\":{\"formatter\":{\"id\":\"9ed4e20c-b18d-4b3c-bedf-29b42d2396a8\",\"type\":\"BasicTickFormatter\"},\"plot\":{\"id\":\"bffdec17-bf1b-49e1-a94a-cef13ba2bc73\",\"subtype\":\"Figure\",\"type\":\"Plot\"},\"ticker\":{\"id\":\"d500408e-4c88-4027-a854-8d6ded562e0d\",\"type\":\"BasicTicker\"}},\"id\":\"ea8a097e-b21e-4c70-93ee-f0648acc94e5\",\"type\":\"LinearAxis\"},{\"attributes\":{},\"id\":\"e887db35-fccc-4f4a-bd7b-d21d32bd84ec\",\"type\":\"BasicTicker\"},{\"attributes\":{\"bottom\":{\"value\":0},\"fill_color\":{\"value\":\"#1f77b4\"},\"left\":{\"field\":\"left\"},\"line_color\":{\"value\":\"#555555\"},\"right\":{\"field\":\"right\"},\"top\":{\"field\":\"top\"}},\"id\":\"acde88ec-e845-400f-bd2e-1bda797aac0d\",\"type\":\"Quad\"},{\"attributes\":{\"bottom\":{\"value\":0},\"fill_alpha\":{\"value\":0.1},\"fill_color\":{\"value\":\"#1f77b4\"},\"left\":{\"field\":\"left\"},\"line_alpha\":{\"value\":0.1},\"line_color\":{\"value\":\"#1f77b4\"},\"right\":{\"field\":\"right\"},\"top\":{\"field\":\"top\"}},\"id\":\"da5b96eb-0b3e-4df0-943e-5255485a1646\",\"type\":\"Quad\"},{\"attributes\":{\"plot\":{\"id\":\"bffdec17-bf1b-49e1-a94a-cef13ba2bc73\",\"subtype\":\"Figure\",\"type\":\"Plot\"},\"ticker\":{\"id\":\"d500408e-4c88-4027-a854-8d6ded562e0d\",\"type\":\"BasicTicker\"}},\"id\":\"ffaf5325-b952-445f-8a24-6f90e9515044\",\"type\":\"Grid\"},{\"attributes\":{\"callback\":null},\"id\":\"bb18eca0-6563-4ff7-b3f5-f5d916bcd928\",\"type\":\"DataRange1d\"},{\"attributes\":{\"callback\":null},\"id\":\"d477db8e-bd5f-4df2-b391-c13bb4591497\",\"type\":\"DataRange1d\"},{\"attributes\":{\"plot\":null,\"text\":\"Top-1000 words distribution\"},\"id\":\"6aeee838-003c-412a-8ea1-8c485a0dd839\",\"type\":\"Title\"},{\"attributes\":{},\"id\":\"9ed4e20c-b18d-4b3c-bedf-29b42d2396a8\",\"type\":\"BasicTickFormatter\"},{\"attributes\":{},\"id\":\"d500408e-4c88-4027-a854-8d6ded562e0d\",\"type\":\"BasicTicker\"}],\"root_ids\":[\"bffdec17-bf1b-49e1-a94a-cef13ba2bc73\"]},\"title\":\"Bokeh Application\",\"version\":\"0.12.13\"}};\n",
       "  var render_items = [{\"docid\":\"1b2ccca7-f25a-4571-858b-7862fb507542\",\"elementid\":\"1c3d8b8e-d440-4cc7-9032-a80d95b0f30d\",\"modelid\":\"bffdec17-bf1b-49e1-a94a-cef13ba2bc73\"}];\n",
       "  root.Bokeh.embed.embed_items_notebook(docs_json, render_items);\n",
       "\n",
       "  }\n",
       "  if (root.Bokeh !== undefined) {\n",
       "    embed_document(root);\n",
       "  } else {\n",
       "    var attempts = 0;\n",
       "    var timer = setInterval(function(root) {\n",
       "      if (root.Bokeh !== undefined) {\n",
       "        embed_document(root);\n",
       "        clearInterval(timer);\n",
       "      }\n",
       "      attempts++;\n",
       "      if (attempts > 100) {\n",
       "        console.log(\"Bokeh: ERROR: Unable to run BokehJS code because BokehJS library is missing\")\n",
       "        clearInterval(timer);\n",
       "      }\n",
       "    }, 10, root)\n",
       "  }\n",
       "})(window);"
      ],
      "application/vnd.bokehjs_exec.v0+json": ""
     },
     "metadata": {
      "application/vnd.bokehjs_exec.v0+json": {
       "id": "bffdec17-bf1b-49e1-a94a-cef13ba2bc73"
      }
     },
     "output_type": "display_data"
    }
   ],
   "source": [
    "hist, edges = np.histogram(counts_wiki_top1000, density=True, bins=100, normed=True)\n",
    "\n",
    "p = figure(tools=\"pan,wheel_zoom,reset,save\",\n",
    "           toolbar_location=\"above\",\n",
    "           title=\"Top-1000 words distribution\")\n",
    "p.quad(top=hist, bottom=0, left=edges[:-1], right=edges[1:], line_color=\"#555555\")\n",
    "show(p)"
   ]
  },
  {
   "cell_type": "code",
   "execution_count": 51,
   "metadata": {},
   "outputs": [
    {
     "data": {
      "text/plain": [
       "[u'the', u'of', u'and', u'in', u'to']"
      ]
     },
     "execution_count": 51,
     "metadata": {},
     "output_type": "execute_result"
    }
   ],
   "source": [
    "words_wiki_top1000[:5]"
   ]
  },
  {
   "cell_type": "code",
   "execution_count": 55,
   "metadata": {},
   "outputs": [],
   "source": [
    "model_wiki = Word2Vec(tokenised_sentences_wiki, size=100, window=5, min_count=10, workers=4)"
   ]
  },
  {
   "cell_type": "code",
   "execution_count": 61,
   "metadata": {},
   "outputs": [
    {
     "name": "stderr",
     "output_type": "stream",
     "text": [
      "/usr/local/lib/python2.7/dist-packages/ipykernel_launcher.py:1: DeprecationWarning: Call to deprecated `most_similar` (Method will be removed in 4.0.0, use self.wv.most_similar() instead).\n",
      "  \"\"\"Entry point for launching an IPython kernel.\n"
     ]
    },
    {
     "data": {
      "text/plain": [
       "[(u'woman', 0.7282618284225464),\n",
       " (u'girl', 0.6200228333473206),\n",
       " (u'boy', 0.6115930080413818),\n",
       " (u'person', 0.5995253920555115),\n",
       " (u'dog', 0.5883893966674805),\n",
       " (u'gentleman', 0.5523183345794678),\n",
       " (u'creature', 0.5517150163650513),\n",
       " (u'men', 0.5507960319519043),\n",
       " (u'soldier', 0.5464372634887695),\n",
       " (u'someone', 0.5208908319473267)]"
      ]
     },
     "execution_count": 61,
     "metadata": {},
     "output_type": "execute_result"
    }
   ],
   "source": [
    "model_wiki.most_similar(\"man\")"
   ]
  },
  {
   "cell_type": "code",
   "execution_count": 57,
   "metadata": {},
   "outputs": [
    {
     "name": "stderr",
     "output_type": "stream",
     "text": [
      "/usr/local/lib/python2.7/dist-packages/ipykernel_launcher.py:1: DeprecationWarning: Call to deprecated `most_similar` (Method will be removed in 4.0.0, use self.wv.most_similar() instead).\n",
      "  \"\"\"Entry point for launching an IPython kernel.\n"
     ]
    },
    {
     "data": {
      "text/plain": [
       "[(u'software', 0.7671365737915039),\n",
       " (u'handheld', 0.7092382907867432),\n",
       " (u'user', 0.6960841417312622),\n",
       " (u'hardware', 0.6773449182510376),\n",
       " (u'controller', 0.6767948865890503),\n",
       " (u'computing', 0.675836443901062),\n",
       " (u'computers', 0.6741385459899902),\n",
       " (u'interactive', 0.6654195189476013),\n",
       " (u'technology', 0.6643165349960327),\n",
       " (u'interface', 0.6608816981315613)]"
      ]
     },
     "execution_count": 57,
     "metadata": {},
     "output_type": "execute_result"
    }
   ],
   "source": [
    "model_wiki.most_similar(\"computer\")"
   ]
  },
  {
   "cell_type": "code",
   "execution_count": 58,
   "metadata": {},
   "outputs": [
    {
     "name": "stderr",
     "output_type": "stream",
     "text": [
      "/usr/local/lib/python2.7/dist-packages/ipykernel_launcher.py:1: DeprecationWarning: Call to deprecated `most_similar` (Method will be removed in 4.0.0, use self.wv.most_similar() instead).\n",
      "  \"\"\"Entry point for launching an IPython kernel.\n"
     ]
    },
    {
     "data": {
      "text/plain": [
       "[(u'its', 0.5616340637207031),\n",
       " (u'this', 0.5445227026939392),\n",
       " (u'a', 0.5007539391517639),\n",
       " (u'each', 0.48358261585235596),\n",
       " (u'another', 0.4739660620689392),\n",
       " (u'itself', 0.44650253653526306),\n",
       " (u'their', 0.44057753682136536),\n",
       " (u'any', 0.43795984983444214),\n",
       " (u'entire', 0.4226207137107849),\n",
       " (u'one', 0.39856699109077454)]"
      ]
     },
     "execution_count": 58,
     "metadata": {},
     "output_type": "execute_result"
    }
   ],
   "source": [
    "model_wiki.most_similar(\"the\")"
   ]
  },
  {
   "cell_type": "code",
   "execution_count": 62,
   "metadata": {},
   "outputs": [
    {
     "name": "stderr",
     "output_type": "stream",
     "text": [
      "/usr/local/lib/python2.7/dist-packages/ipykernel_launcher.py:1: DeprecationWarning: Call to deprecated `most_similar` (Method will be removed in 4.0.0, use self.wv.most_similar() instead).\n",
      "  \"\"\"Entry point for launching an IPython kernel.\n"
     ]
    },
    {
     "data": {
      "text/plain": [
       "[(u'josh', 0.8865985870361328),\n",
       " (u'terry', 0.8843636512756348),\n",
       " (u'doug', 0.8802260756492615),\n",
       " (u'colin', 0.8785141706466675),\n",
       " (u'glenn', 0.876736044883728),\n",
       " (u'greg', 0.875827968120575),\n",
       " (u'gary', 0.8749195337295532),\n",
       " (u'fred', 0.8716672658920288),\n",
       " (u'casey', 0.8710375428199768),\n",
       " (u'larry', 0.8695237636566162)]"
      ]
     },
     "execution_count": 62,
     "metadata": {},
     "output_type": "execute_result"
    }
   ],
   "source": [
    "model_wiki.most_similar(\"ted\")"
   ]
  },
  {
   "cell_type": "markdown",
   "metadata": {},
   "source": [
    "#### t-SNE visualization"
   ]
  },
  {
   "cell_type": "code",
   "execution_count": 59,
   "metadata": {},
   "outputs": [
    {
     "name": "stderr",
     "output_type": "stream",
     "text": [
      "/usr/local/lib/python2.7/dist-packages/ipykernel_launcher.py:2: DeprecationWarning: Call to deprecated `__getitem__` (Method will be removed in 4.0.0, use self.wv.__getitem__() instead).\n",
      "  \n"
     ]
    }
   ],
   "source": [
    "# This assumes words_top_wiki is a list of strings, the top 1000 words\n",
    "words_top_vec_wiki = model_wiki[words_wiki_top1000]\n",
    "\n",
    "tsne = TSNE(n_components=2, random_state=0)\n",
    "words_top_wiki_tsne = tsne.fit_transform(words_top_vec_wiki)"
   ]
  },
  {
   "cell_type": "code",
   "execution_count": 63,
   "metadata": {},
   "outputs": [
    {
     "data": {
      "text/html": [
       "\n",
       "<div class=\"bk-root\">\n",
       "    <div class=\"bk-plotdiv\" id=\"56f2a796-fa25-43f6-bcc9-c8e000d922bc\"></div>\n",
       "</div>"
      ]
     },
     "metadata": {},
     "output_type": "display_data"
    },
    {
     "data": {
      "application/javascript": [
       "(function(root) {\n",
       "  function embed_document(root) {\n",
       "    \n",
       "  var docs_json = {\"49cbf954-4d40-4467-9aac-6c1d1f493461\":{\"roots\":{\"references\":[{\"attributes\":{\"formatter\":{\"id\":\"6cd71403-2002-4f5d-afbd-29033af4a4ad\",\"type\":\"BasicTickFormatter\"},\"plot\":{\"id\":\"9fa47e5b-5ef2-4af4-839e-89442d841131\",\"subtype\":\"Figure\",\"type\":\"Plot\"},\"ticker\":{\"id\":\"51f31f41-12b2-47fc-990b-bd21d0d0e5ef\",\"type\":\"BasicTicker\"}},\"id\":\"4ff408e5-3164-4c21-90cf-ecaf89d0ff52\",\"type\":\"LinearAxis\"},{\"attributes\":{},\"id\":\"6cd71403-2002-4f5d-afbd-29033af4a4ad\",\"type\":\"BasicTickFormatter\"},{\"attributes\":{\"source\":{\"id\":\"f540bde9-1ad9-4d77-bfce-6ea089593d9d\",\"type\":\"ColumnDataSource\"}},\"id\":\"29dbe650-58b0-485c-ad51-52c673220ae3\",\"type\":\"CDSView\"},{\"attributes\":{},\"id\":\"d6fbd885-d77c-4b2a-aeb0-699997717e92\",\"type\":\"BasicTicker\"},{\"attributes\":{},\"id\":\"93bc021c-d571-40f4-a515-50b3ff43dcea\",\"type\":\"LinearScale\"},{\"attributes\":{},\"id\":\"ceaecca9-a898-4b43-af24-798cc4616028\",\"type\":\"WheelZoomTool\"},{\"attributes\":{\"callback\":null},\"id\":\"575d3a02-d858-45ea-8832-9a14816c6d7f\",\"type\":\"DataRange1d\"},{\"attributes\":{\"callback\":null,\"column_names\":[\"x2\",\"x1\",\"names\"],\"data\":{\"names\":[\"the\",\"of\",\"and\",\"in\",\"to\",\"a\",\"was\",\"s\",\"on\",\"as\",\"for\",\"that\",\"with\",\"by\",\"is\",\"his\",\"at\",\"he\",\"from\",\"it\",\"were\",\"an\",\"had\",\"which\",\"be\",\"this\",\"but\",\"are\",\"first\",\"not\",\"their\",\"after\",\"one\",\"her\",\"its\",\"also\",\"they\",\"two\",\"or\",\"have\",\"who\",\"new\",\"been\",\"has\",\"she\",\"when\",\"time\",\"during\",\"other\",\"would\",\"into\",\"all\",\"i\",\"more\",\"while\",\"over\",\"him\",\"game\",\"only\",\"later\",\"up\",\"most\",\"three\",\"about\",\"out\",\"th\",\"between\",\"than\",\"there\",\"some\",\"film\",\"may\",\"before\",\"year\",\"made\",\"no\",\"such\",\"second\",\"where\",\"season\",\"years\",\"war\",\"world\",\"both\",\"then\",\"these\",\"however\",\"used\",\"being\",\"them\",\"through\",\"song\",\"series\",\"against\",\"m\",\"album\",\"many\",\"city\",\"team\",\"became\",\"north\",\"including\",\"part\",\"united\",\"four\",\"several\",\"well\",\"number\",\"can\",\"early\",\"under\",\"state\",\"south\",\"so\",\"day\",\"music\",\"said\",\"episode\",\"following\",\"states\",\"although\",\"known\",\"american\",\"did\",\"began\",\"could\",\"work\",\"until\",\"because\",\"like\",\"released\",\"called\",\"t\",\"people\",\"high\",\"end\",\"since\",\"british\",\"around\",\"long\",\"each\",\"best\",\"if\",\"found\",\"national\",\"same\",\"life\",\"west\",\"september\",\"us\",\"five\",\"along\",\"back\",\"another\",\"million\",\"show\",\"you\",\"took\",\"use\",\"off\",\"final\",\"any\",\"august\",\"km\",\"group\",\"area\",\"received\",\"october\",\"century\",\"school\",\"due\",\"john\",\"will\",\"line\",\"what\",\"government\",\"june\",\"east\",\"home\",\"single\",\"march\",\"november\",\"system\",\"july\",\"general\",\"games\",\"third\",\"april\",\"set\",\"down\",\"large\",\"left\",\"much\",\"family\",\"just\",\"york\",\"major\",\"place\",\"based\",\"house\",\"army\",\"played\",\"company\",\"we\",\"december\",\"history\",\"included\",\"band\",\"now\",\"king\",\"six\",\"road\",\"name\",\"character\",\"january\",\"wrote\",\"own\",\"won\",\"times\",\"de\",\"according\",\"last\",\"air\",\"river\",\"main\",\"near\",\"death\",\"led\",\"d\",\"described\",\"within\",\"those\",\"men\",\"video\",\"still\",\"release\",\"named\",\"battle\",\"original\",\"next\",\"st\",\"way\",\"top\",\"very\",\"late\",\"ship\",\"league\",\"record\",\"make\",\"production\",\"even\",\"storm\",\"force\",\"great\",\"species\",\"small\",\"man\",\"built\",\"route\",\"old\",\"club\",\"days\",\"u\",\"february\",\"again\",\"public\",\"though\",\"held\",\"members\",\"do\",\"university\",\"play\",\"further\",\"among\",\"book\",\"b\",\"service\",\"division\",\"french\",\"german\",\"side\",\"role\",\"power\",\"having\",\"water\",\"match\",\"h\",\"white\",\"story\",\"player\",\"point\",\"came\",\"often\",\"former\",\"order\",\"continued\",\"town\",\"local\",\"career\",\"park\",\"considered\",\"black\",\"without\",\"despite\",\"take\",\"england\",\"party\",\"songs\",\"half\",\"moved\",\"written\",\"form\",\"county\",\"few\",\"island\",\"support\",\"development\",\"version\",\"lost\",\"period\",\"become\",\"military\",\"english\",\"c\",\"different\",\"tropical\",\"court\",\"little\",\"given\",\"building\",\"country\",\"president\",\"re\",\"forces\",\"london\",\"never\",\"ii\",\"using\",\"similar\",\"international\",\"attack\",\"tour\",\"performance\",\"my\",\"returned\",\"gave\",\"position\",\"lead\",\"produced\",\"highway\",\"church\",\"street\",\"went\",\"n\",\"published\",\"children\",\"royal\",\"recorded\",\"aircraft\",\"class\",\"track\",\"short\",\"land\",\"television\",\"run\",\"western\",\"making\",\"stated\",\"include\",\"how\",\"week\",\"upon\",\"per\",\"women\",\"father\",\"ships\",\"total\",\"star\",\"himself\",\"good\",\"live\",\"me\",\"fire\",\"right\",\"control\",\"australia\",\"once\",\"head\",\"players\",\"throughout\",\"characters\",\"young\",\"design\",\"love\",\"station\",\"away\",\"months\",\"less\",\"rock\",\"light\",\"instead\",\"developed\",\"ft\",\"night\",\"result\",\"sea\",\"age\",\"seven\",\"title\",\"red\",\"central\",\"law\",\"remained\",\"r\",\"return\",\"writing\",\"across\",\"ten\",\"center\",\"previous\",\"political\",\"hurricane\",\"died\",\"eight\",\"e\",\"too\",\"southern\",\"race\",\"low\",\"construction\",\"felt\",\"office\",\"style\",\"son\",\"america\",\"areas\",\"win\",\"eventually\",\"college\",\"james\",\"announced\",\"various\",\"reported\",\"created\",\"noted\",\"act\",\"award\",\"field\",\"reached\",\"sent\",\"should\",\"william\",\"miles\",\"japanese\",\"together\",\"served\",\"seen\",\"northern\",\"member\",\"full\",\"works\",\"killed\",\"level\",\"taken\",\"followed\",\"range\",\"performed\",\"able\",\"common\",\"australian\",\"established\",\"action\",\"body\",\"born\",\"chart\",\"others\",\"points\",\"stage\",\"originally\",\"thought\",\"post\",\"success\",\"bridge\",\"campaign\",\"caused\",\"fourth\",\"added\",\"special\",\"appeared\",\"started\",\"located\",\"critics\",\"get\",\"project\",\"feet\",\"decided\",\"o\",\"modern\",\"front\",\"features\",\"mm\",\"george\",\"behind\",\"soon\",\"every\",\"rather\",\"formed\",\"football\",\"playing\",\"director\",\"addition\",\"present\",\"f\",\"population\",\"popular\",\"opened\",\"saw\",\"almost\",\"sold\",\"damage\",\"site\",\"heavy\",\"see\",\"championship\",\"eastern\",\"strong\",\"close\",\"david\",\"completed\",\"open\",\"awards\",\"leading\",\"command\",\"case\",\"non\",\"go\",\"mother\",\"region\",\"art\",\"coast\",\"important\",\"ground\",\"kingdom\",\"fleet\",\"hall\",\"free\",\"initially\",\"scene\",\"weeks\",\"guns\",\"worked\",\"l\",\"union\",\"working\",\"mi\",\"provided\",\"france\",\"ever\",\"scored\",\"event\",\"michael\",\"towards\",\"records\",\"either\",\"henry\",\"cup\",\"wanted\",\"does\",\"help\",\"recording\",\"hit\",\"training\",\"least\",\"studio\",\"sound\",\"generally\",\"brought\",\"navy\",\"europe\",\"put\",\"average\",\"victory\",\"featured\",\"troops\",\"example\",\"wife\",\"allowed\",\"mid\",\"washington\",\"designed\",\"council\",\"placed\",\"far\",\"magazine\",\"runs\",\"base\",\"human\",\"events\",\"summer\",\"media\",\"hours\",\"co\",\"joined\",\"replaced\",\"believed\",\"list\",\"robert\",\"crew\",\"successful\",\"squadron\",\"japan\",\"police\",\"association\",\"brown\",\"opening\",\"nine\",\"official\",\"minutes\",\"saying\",\"society\",\"start\",\"films\",\"largest\",\"finished\",\"shot\",\"european\",\"beginning\",\"earlier\",\"operation\",\"involved\",\"al\",\"test\",\"met\",\"captain\",\"month\",\"x\",\"mph\",\"rest\",\"taking\",\"change\",\"particularly\",\"process\",\"increased\",\"real\",\"highest\",\"possible\",\"outside\",\"better\",\"big\",\"radio\",\"available\",\"research\",\"praised\",\"social\",\"reviews\",\"forced\",\"significant\",\"section\",\"middle\",\"review\",\"come\",\"future\",\"relationship\",\"passed\",\"stone\",\"signed\",\"must\",\"goal\",\"staff\",\"cast\",\"ended\",\"community\",\"turned\",\"going\",\"business\",\"previously\",\"overall\",\"infantry\",\"lower\",\"chief\",\"move\",\"program\",\"thus\",\"canada\",\"charles\",\"units\",\"appearance\",\"san\",\"rights\",\"winds\",\"space\",\"positive\",\"thomas\",\"california\",\"round\",\"above\",\"enough\",\"gun\",\"interest\",\"hill\",\"lake\",\"elements\",\"gold\",\"give\",\"ordered\",\"cross\",\"additional\",\"failed\",\"g\",\"find\",\"type\",\"lines\",\"committee\",\"critical\",\"board\",\"attempt\",\"groups\",\"don\",\"brother\",\"required\",\"india\",\"spent\",\"paul\",\"parts\",\"v\",\"evidence\",\"castle\",\"directed\",\"money\",\"itself\",\"battalion\",\"musical\",\"district\",\"grand\",\"reception\",\"told\",\"female\",\"cover\",\"term\",\"hand\",\"plan\",\"study\",\"room\",\"asked\",\"port\",\"germany\",\"prior\",\"whose\",\"news\",\"education\",\"complete\",\"whom\",\"effects\",\"claimed\",\"p\",\"sometimes\",\"bill\",\"introduced\",\"entire\",\"square\",\"already\",\"usually\",\"response\",\"press\",\"smith\",\"green\",\"turn\",\"loss\",\"election\",\"our\",\"uk\",\"quickly\",\"personal\",\"students\",\"stars\",\"village\",\"governor\",\"debut\",\"services\",\"background\",\"blue\",\"ny\",\"mark\",\"novel\",\"movement\",\"shows\",\"k\",\"plot\",\"score\",\"limited\",\"indian\",\"anti\",\"past\",\"minister\",\"person\",\"centre\",\"speed\",\"estimated\",\"food\",\"bay\",\"commander\",\"fifth\",\"decision\",\"leaving\",\"teams\",\"defeated\",\"cut\",\"industry\",\"britain\",\"larger\",\"surface\",\"network\",\"issue\",\"peter\",\"woman\",\"operations\",\"arrived\",\"flight\",\"civil\",\"episodes\",\"pop\",\"remaining\",\"length\",\"earth\",\"department\",\"structure\",\"science\",\"hot\",\"commercial\",\"suggested\",\"self\",\"writer\",\"especially\",\"material\",\"becoming\",\"scenes\",\"living\",\"la\",\"might\",\"entered\",\"idea\",\"pressure\",\"report\",\"destroyed\",\"course\",\"depression\",\"los\",\"queen\",\"running\",\"car\",\"percent\",\"carried\",\"size\",\"voice\",\"winning\",\"view\",\"appointed\",\"shortly\",\"influence\",\"soviet\",\"changes\",\"approximately\",\"date\",\"spanish\",\"agreed\",\"wide\",\"lack\",\"naval\",\"dark\",\"empire\",\"brigade\",\"nearly\",\"higher\",\"natural\",\"richard\",\"related\",\"subsequently\",\"god\",\"tracks\",\"provide\",\"virginia\",\"museum\",\"finally\",\"language\",\"islands\",\"child\",\"soldiers\",\"today\",\"married\",\"immediately\",\"intended\",\"helped\",\"leader\",\"daughter\",\"create\",\"yet\",\"changed\",\"supported\",\"nd\",\"upper\",\"whether\",\"latter\",\"cost\",\"buildings\",\"officers\",\"proposed\",\"remains\",\"longer\",\"chinese\",\"current\",\"planned\",\"guitar\",\"experience\",\"producer\",\"health\",\"contract\",\"fans\",\"your\",\"feature\",\"compared\",\"face\",\"professional\",\"officer\",\"manager\",\"mixed\",\"friend\",\"regular\",\"plans\",\"fact\",\"trade\",\"minor\",\"themselves\",\"federal\",\"johnson\",\"chicago\",\"railway\",\"fort\",\"nature\",\"awarded\",\"appear\",\"location\",\"corps\",\"cm\",\"information\",\"ball\",\"something\",\"private\",\"extended\",\"singles\",\"initial\",\"done\",\"moving\",\"key\",\"know\",\"christian\",\"countries\",\"billboard\",\"regiment\",\"lord\",\"really\",\"mostly\",\"probably\",\"meeting\",\"status\",\"jackson\",\"singer\",\"books\",\"dance\",\"associated\",\"got\",\"texas\",\"always\",\"j\",\"leave\",\"dead\",\"effect\",\"florida\",\"captured\",\"inspired\",\"ran\",\"forward\",\"energy\",\"likely\",\"unit\",\"poor\",\"china\",\"friends\",\"pass\",\"difficult\",\"atlantic\",\"copies\",\"pacific\",\"numerous\",\"edition\",\"includes\",\"minute\",\"movie\",\"hour\",\"conference\",\"cause\"],\"x1\":{\"__ndarray__\":\"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\",\"dtype\":\"float32\",\"shape\":[1000]},\"x2\":{\"__ndarray__\":\"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\",\"dtype\":\"float32\",\"shape\":[1000]}}},\"id\":\"f540bde9-1ad9-4d77-bfce-6ea089593d9d\",\"type\":\"ColumnDataSource\"},{\"attributes\":{},\"id\":\"6949c595-6b32-4c44-9b90-73a529f8322b\",\"type\":\"LinearScale\"},{\"attributes\":{\"plot\":null,\"text\":\"word2vec T-SNE for most common words\"},\"id\":\"65ac64ee-d710-468a-ae9c-97954f255967\",\"type\":\"Title\"},{\"attributes\":{\"plot\":{\"id\":\"9fa47e5b-5ef2-4af4-839e-89442d841131\",\"subtype\":\"Figure\",\"type\":\"Plot\"},\"source\":{\"id\":\"f540bde9-1ad9-4d77-bfce-6ea089593d9d\",\"type\":\"ColumnDataSource\"},\"text\":{\"field\":\"names\"},\"text_align\":\"center\",\"text_color\":{\"value\":\"#555555\"},\"text_font_size\":{\"value\":\"8pt\"},\"x\":{\"field\":\"x1\"},\"y\":{\"field\":\"x2\"},\"y_offset\":{\"value\":6}},\"id\":\"24d42f4f-70fb-4558-895e-514092574316\",\"type\":\"LabelSet\"},{\"attributes\":{},\"id\":\"59606490-8d95-4e4e-8dac-afd240f87990\",\"type\":\"PanTool\"},{\"attributes\":{\"plot\":{\"id\":\"9fa47e5b-5ef2-4af4-839e-89442d841131\",\"subtype\":\"Figure\",\"type\":\"Plot\"},\"ticker\":{\"id\":\"51f31f41-12b2-47fc-990b-bd21d0d0e5ef\",\"type\":\"BasicTicker\"}},\"id\":\"d6ecc304-ae0c-4be9-83d1-e1a9123a333a\",\"type\":\"Grid\"},{\"attributes\":{\"below\":[{\"id\":\"4ff408e5-3164-4c21-90cf-ecaf89d0ff52\",\"type\":\"LinearAxis\"}],\"left\":[{\"id\":\"b7e96f74-6518-4bba-918c-d361ac78c2d8\",\"type\":\"LinearAxis\"}],\"renderers\":[{\"id\":\"4ff408e5-3164-4c21-90cf-ecaf89d0ff52\",\"type\":\"LinearAxis\"},{\"id\":\"d6ecc304-ae0c-4be9-83d1-e1a9123a333a\",\"type\":\"Grid\"},{\"id\":\"b7e96f74-6518-4bba-918c-d361ac78c2d8\",\"type\":\"LinearAxis\"},{\"id\":\"4591636b-3c23-4406-b0f3-792930c106b0\",\"type\":\"Grid\"},{\"id\":\"64a539aa-a862-49cd-b750-25cdc27ccffa\",\"type\":\"GlyphRenderer\"},{\"id\":\"24d42f4f-70fb-4558-895e-514092574316\",\"type\":\"LabelSet\"}],\"title\":{\"id\":\"65ac64ee-d710-468a-ae9c-97954f255967\",\"type\":\"Title\"},\"toolbar\":{\"id\":\"a7a75a9d-dd8d-4c71-b21e-525a33e1797f\",\"type\":\"Toolbar\"},\"toolbar_location\":\"above\",\"x_range\":{\"id\":\"575d3a02-d858-45ea-8832-9a14816c6d7f\",\"type\":\"DataRange1d\"},\"x_scale\":{\"id\":\"6949c595-6b32-4c44-9b90-73a529f8322b\",\"type\":\"LinearScale\"},\"y_range\":{\"id\":\"d3452b2a-4894-4e39-8223-e039d0a45f7a\",\"type\":\"DataRange1d\"},\"y_scale\":{\"id\":\"93bc021c-d571-40f4-a515-50b3ff43dcea\",\"type\":\"LinearScale\"}},\"id\":\"9fa47e5b-5ef2-4af4-839e-89442d841131\",\"subtype\":\"Figure\",\"type\":\"Plot\"},{\"attributes\":{},\"id\":\"ed5f664b-4bcf-4d32-b79c-9b05d319c30c\",\"type\":\"ResetTool\"},{\"attributes\":{\"fill_color\":{\"value\":\"#1f77b4\"},\"line_color\":{\"value\":\"#1f77b4\"},\"size\":{\"units\":\"screen\",\"value\":8},\"x\":{\"field\":\"x1\"},\"y\":{\"field\":\"x2\"}},\"id\":\"3baf6042-e9f2-47ef-9037-c626cb80a1d3\",\"type\":\"Circle\"},{\"attributes\":{\"data_source\":{\"id\":\"f540bde9-1ad9-4d77-bfce-6ea089593d9d\",\"type\":\"ColumnDataSource\"},\"glyph\":{\"id\":\"3baf6042-e9f2-47ef-9037-c626cb80a1d3\",\"type\":\"Circle\"},\"hover_glyph\":null,\"muted_glyph\":null,\"nonselection_glyph\":{\"id\":\"5296bce7-6a0d-4601-85f8-e3613a310bda\",\"type\":\"Circle\"},\"selection_glyph\":null,\"view\":{\"id\":\"29dbe650-58b0-485c-ad51-52c673220ae3\",\"type\":\"CDSView\"}},\"id\":\"64a539aa-a862-49cd-b750-25cdc27ccffa\",\"type\":\"GlyphRenderer\"},{\"attributes\":{},\"id\":\"a99ed2dc-3f9d-452c-af2a-1e9365c50054\",\"type\":\"BasicTickFormatter\"},{\"attributes\":{},\"id\":\"eb6fff9b-bfd9-4005-aa31-b81d770bfef5\",\"type\":\"SaveTool\"},{\"attributes\":{\"fill_alpha\":{\"value\":0.1},\"fill_color\":{\"value\":\"#1f77b4\"},\"line_alpha\":{\"value\":0.1},\"line_color\":{\"value\":\"#1f77b4\"},\"size\":{\"units\":\"screen\",\"value\":8},\"x\":{\"field\":\"x1\"},\"y\":{\"field\":\"x2\"}},\"id\":\"5296bce7-6a0d-4601-85f8-e3613a310bda\",\"type\":\"Circle\"},{\"attributes\":{\"active_drag\":\"auto\",\"active_inspect\":\"auto\",\"active_scroll\":\"auto\",\"active_tap\":\"auto\",\"tools\":[{\"id\":\"59606490-8d95-4e4e-8dac-afd240f87990\",\"type\":\"PanTool\"},{\"id\":\"ceaecca9-a898-4b43-af24-798cc4616028\",\"type\":\"WheelZoomTool\"},{\"id\":\"ed5f664b-4bcf-4d32-b79c-9b05d319c30c\",\"type\":\"ResetTool\"},{\"id\":\"eb6fff9b-bfd9-4005-aa31-b81d770bfef5\",\"type\":\"SaveTool\"}]},\"id\":\"a7a75a9d-dd8d-4c71-b21e-525a33e1797f\",\"type\":\"Toolbar\"},{\"attributes\":{\"callback\":null},\"id\":\"d3452b2a-4894-4e39-8223-e039d0a45f7a\",\"type\":\"DataRange1d\"},{\"attributes\":{\"formatter\":{\"id\":\"a99ed2dc-3f9d-452c-af2a-1e9365c50054\",\"type\":\"BasicTickFormatter\"},\"plot\":{\"id\":\"9fa47e5b-5ef2-4af4-839e-89442d841131\",\"subtype\":\"Figure\",\"type\":\"Plot\"},\"ticker\":{\"id\":\"d6fbd885-d77c-4b2a-aeb0-699997717e92\",\"type\":\"BasicTicker\"}},\"id\":\"b7e96f74-6518-4bba-918c-d361ac78c2d8\",\"type\":\"LinearAxis\"},{\"attributes\":{\"dimension\":1,\"plot\":{\"id\":\"9fa47e5b-5ef2-4af4-839e-89442d841131\",\"subtype\":\"Figure\",\"type\":\"Plot\"},\"ticker\":{\"id\":\"d6fbd885-d77c-4b2a-aeb0-699997717e92\",\"type\":\"BasicTicker\"}},\"id\":\"4591636b-3c23-4406-b0f3-792930c106b0\",\"type\":\"Grid\"},{\"attributes\":{},\"id\":\"51f31f41-12b2-47fc-990b-bd21d0d0e5ef\",\"type\":\"BasicTicker\"}],\"root_ids\":[\"9fa47e5b-5ef2-4af4-839e-89442d841131\"]},\"title\":\"Bokeh Application\",\"version\":\"0.12.13\"}};\n",
       "  var render_items = [{\"docid\":\"49cbf954-4d40-4467-9aac-6c1d1f493461\",\"elementid\":\"56f2a796-fa25-43f6-bcc9-c8e000d922bc\",\"modelid\":\"9fa47e5b-5ef2-4af4-839e-89442d841131\"}];\n",
       "  root.Bokeh.embed.embed_items_notebook(docs_json, render_items);\n",
       "\n",
       "  }\n",
       "  if (root.Bokeh !== undefined) {\n",
       "    embed_document(root);\n",
       "  } else {\n",
       "    var attempts = 0;\n",
       "    var timer = setInterval(function(root) {\n",
       "      if (root.Bokeh !== undefined) {\n",
       "        embed_document(root);\n",
       "        clearInterval(timer);\n",
       "      }\n",
       "      attempts++;\n",
       "      if (attempts > 100) {\n",
       "        console.log(\"Bokeh: ERROR: Unable to run BokehJS code because BokehJS library is missing\")\n",
       "        clearInterval(timer);\n",
       "      }\n",
       "    }, 10, root)\n",
       "  }\n",
       "})(window);"
      ],
      "application/vnd.bokehjs_exec.v0+json": ""
     },
     "metadata": {
      "application/vnd.bokehjs_exec.v0+json": {
       "id": "9fa47e5b-5ef2-4af4-839e-89442d841131"
      }
     },
     "output_type": "display_data"
    }
   ],
   "source": [
    "p = figure(tools=\"pan,wheel_zoom,reset,save\",\n",
    "           toolbar_location=\"above\",\n",
    "           title=\"word2vec T-SNE for most common words\")\n",
    "\n",
    "source = ColumnDataSource(data=dict(x1=words_top_wiki_tsne[:,0],\n",
    "                                    x2=words_top_wiki_tsne[:,1],\n",
    "                                    names=words_wiki_top1000))\n",
    "\n",
    "p.scatter(x=\"x1\", y=\"x2\", size=8, source=source)\n",
    "\n",
    "labels = LabelSet(x=\"x1\", y=\"x2\", text=\"names\", y_offset=6,\n",
    "                  text_font_size=\"8pt\", text_color=\"#555555\",\n",
    "                  source=source, text_align='center')\n",
    "p.add_layout(labels)\n",
    "\n",
    "show(p)"
   ]
  }
 ],
 "metadata": {
  "anaconda-cloud": {},
  "kernelspec": {
   "display_name": "Python 2",
   "language": "python",
   "name": "python2"
  },
  "language_info": {
   "codemirror_mode": {
    "name": "ipython",
    "version": 2
   },
   "file_extension": ".py",
   "mimetype": "text/x-python",
   "name": "python",
   "nbconvert_exporter": "python",
   "pygments_lexer": "ipython2",
   "version": "2.7.12"
  }
 },
 "nbformat": 4,
 "nbformat_minor": 1
}
